{
 "cells": [
  {
   "cell_type": "code",
   "execution_count": 1,
   "metadata": {},
   "outputs": [],
   "source": [
    "import numpy as np\n",
    "import pandas as pd\n",
    "import matplotlib.pyplot as plt\n",
    "%load_ext autoreload"
   ]
  },
  {
   "cell_type": "markdown",
   "metadata": {},
   "source": [
    "# Load Data"
   ]
  },
  {
   "cell_type": "code",
   "execution_count": 2,
   "metadata": {},
   "outputs": [],
   "source": [
    "test_data = pd.read_csv('data/test_v2.csv')\n",
    "train_data = pd.read_csv('data/train_v2.csv')"
   ]
  },
  {
   "cell_type": "markdown",
   "metadata": {},
   "source": [
    "# Data Pipeline"
   ]
  },
  {
   "cell_type": "code",
   "execution_count": 3,
   "metadata": {},
   "outputs": [],
   "source": [
    "%autoreload\n",
    "from sklearn.pipeline import Pipeline, FeatureUnion\n",
    "from sklearn.preprocessing import OneHotEncoder\n",
    "from sklearn.compose import ColumnTransformer\n",
    "from include.DatetimeFromTimestamp import DatetimeFromTimestamp\n",
    "from include.DataFrameDropper import DataFrameDropper\n",
    "from include.DataFrameSelector import DataFrameSelector\n",
    "from include.FilterNMostCommon import FilterNMostCommon\n",
    "\n",
    "\n",
    "pipeline_normal = Pipeline([\n",
    "    ('datetime_creator', DatetimeFromTimestamp()),\n",
    "])\n",
    "\n",
    "pipeline_1hot = Pipeline([\n",
    "    ('dataframe_selector', DataFrameSelector(['product_category'])),\n",
    "    ('filter_n_most_common', FilterNMostCommon(N=10, minRelFreq=0.01, attribute_name='product_category')),\n",
    "    ('1hot_encoder', OneHotEncoder(sparse = False))\n",
    "])\n",
    "\n",
    "pipeline_analysis = FeatureUnion(transformer_list=[\n",
    "    ('pipeline_normal', pipeline_normal),\n",
    "    ('pipeline_1hot', pipeline_1hot),\n",
    "])"
   ]
  },
  {
   "cell_type": "code",
   "execution_count": 4,
   "metadata": {},
   "outputs": [],
   "source": [
    "train_data_treated = pipeline_analysis.fit_transform(train_data)\n",
    "categories = pipeline_1hot.named_steps['1hot_encoder'].categories_\n",
    "cols_train = list(train_data) + ['datetime'] + categories[0].tolist()"
   ]
  },
  {
   "cell_type": "code",
   "execution_count": 5,
   "metadata": {},
   "outputs": [],
   "source": [
    "test_data_treated = pipeline_analysis.transform(test_data)\n",
    "cols_test = list(test_data) + ['datetime'] + categories[0].tolist()"
   ]
  },
  {
   "cell_type": "markdown",
   "metadata": {},
   "source": [
    "### Convert to DataFrame\n",
    "Not necessary, we can always use the index from cols"
   ]
  },
  {
   "cell_type": "raw",
   "metadata": {},
   "source": [
    "cols.index('C20')"
   ]
  },
  {
   "cell_type": "code",
   "execution_count": 9,
   "metadata": {},
   "outputs": [
    {
     "data": {
      "text/html": [
       "<div>\n",
       "<style scoped>\n",
       "    .dataframe tbody tr th:only-of-type {\n",
       "        vertical-align: middle;\n",
       "    }\n",
       "\n",
       "    .dataframe tbody tr th {\n",
       "        vertical-align: top;\n",
       "    }\n",
       "\n",
       "    .dataframe thead th {\n",
       "        text-align: right;\n",
       "    }\n",
       "</style>\n",
       "<table border=\"1\" class=\"dataframe\">\n",
       "  <thead>\n",
       "    <tr style=\"text-align: right;\">\n",
       "      <th></th>\n",
       "      <th>id</th>\n",
       "      <th>timestamp</th>\n",
       "      <th>product_id</th>\n",
       "      <th>product_department</th>\n",
       "      <th>product_category</th>\n",
       "      <th>card_id</th>\n",
       "      <th>user_id</th>\n",
       "      <th>C15</th>\n",
       "      <th>C16</th>\n",
       "      <th>C17</th>\n",
       "      <th>...</th>\n",
       "      <th>C20</th>\n",
       "      <th>C21</th>\n",
       "      <th>amount</th>\n",
       "      <th>isfraud</th>\n",
       "      <th>datetime</th>\n",
       "      <th>28905ebd</th>\n",
       "      <th>3e814130</th>\n",
       "      <th>50e219e0</th>\n",
       "      <th>Other</th>\n",
       "      <th>f028772b</th>\n",
       "    </tr>\n",
       "  </thead>\n",
       "  <tbody>\n",
       "    <tr>\n",
       "      <th>0</th>\n",
       "      <td>0</td>\n",
       "      <td>1413851531856</td>\n",
       "      <td>f3845767</td>\n",
       "      <td>1fbe01fe</td>\n",
       "      <td>28905ebd</td>\n",
       "      <td>ecad2386</td>\n",
       "      <td>a99f214a</td>\n",
       "      <td>320</td>\n",
       "      <td>50</td>\n",
       "      <td>1722</td>\n",
       "      <td>...</td>\n",
       "      <td>-1</td>\n",
       "      <td>79</td>\n",
       "      <td>184.09</td>\n",
       "      <td>0</td>\n",
       "      <td>2014-10-21 00:32:11.856000</td>\n",
       "      <td>1</td>\n",
       "      <td>0</td>\n",
       "      <td>0</td>\n",
       "      <td>0</td>\n",
       "      <td>0</td>\n",
       "    </tr>\n",
       "    <tr>\n",
       "      <th>1</th>\n",
       "      <td>1</td>\n",
       "      <td>1413851817483</td>\n",
       "      <td>f3845767</td>\n",
       "      <td>1fbe01fe</td>\n",
       "      <td>28905ebd</td>\n",
       "      <td>ecad2386</td>\n",
       "      <td>a99f214a</td>\n",
       "      <td>320</td>\n",
       "      <td>50</td>\n",
       "      <td>1722</td>\n",
       "      <td>...</td>\n",
       "      <td>100084</td>\n",
       "      <td>79</td>\n",
       "      <td>184.09</td>\n",
       "      <td>0</td>\n",
       "      <td>2014-10-21 00:36:57.483000</td>\n",
       "      <td>1</td>\n",
       "      <td>0</td>\n",
       "      <td>0</td>\n",
       "      <td>0</td>\n",
       "      <td>0</td>\n",
       "    </tr>\n",
       "    <tr>\n",
       "      <th>2</th>\n",
       "      <td>2</td>\n",
       "      <td>1413852597526</td>\n",
       "      <td>f3845767</td>\n",
       "      <td>1fbe01fe</td>\n",
       "      <td>28905ebd</td>\n",
       "      <td>ecad2386</td>\n",
       "      <td>a99f214a</td>\n",
       "      <td>320</td>\n",
       "      <td>50</td>\n",
       "      <td>1722</td>\n",
       "      <td>...</td>\n",
       "      <td>100084</td>\n",
       "      <td>79</td>\n",
       "      <td>184.09</td>\n",
       "      <td>0</td>\n",
       "      <td>2014-10-21 00:49:57.526000</td>\n",
       "      <td>1</td>\n",
       "      <td>0</td>\n",
       "      <td>0</td>\n",
       "      <td>0</td>\n",
       "      <td>0</td>\n",
       "    </tr>\n",
       "    <tr>\n",
       "      <th>3</th>\n",
       "      <td>3</td>\n",
       "      <td>1413851283020</td>\n",
       "      <td>f3845767</td>\n",
       "      <td>1fbe01fe</td>\n",
       "      <td>28905ebd</td>\n",
       "      <td>ecad2386</td>\n",
       "      <td>a99f214a</td>\n",
       "      <td>320</td>\n",
       "      <td>50</td>\n",
       "      <td>1722</td>\n",
       "      <td>...</td>\n",
       "      <td>100084</td>\n",
       "      <td>79</td>\n",
       "      <td>184.09</td>\n",
       "      <td>0</td>\n",
       "      <td>2014-10-21 00:28:03.020000</td>\n",
       "      <td>1</td>\n",
       "      <td>0</td>\n",
       "      <td>0</td>\n",
       "      <td>0</td>\n",
       "      <td>0</td>\n",
       "    </tr>\n",
       "    <tr>\n",
       "      <th>4</th>\n",
       "      <td>4</td>\n",
       "      <td>1413849935779</td>\n",
       "      <td>9166c161</td>\n",
       "      <td>fe8cc448</td>\n",
       "      <td>0569f928</td>\n",
       "      <td>ecad2386</td>\n",
       "      <td>a99f214a</td>\n",
       "      <td>320</td>\n",
       "      <td>50</td>\n",
       "      <td>2161</td>\n",
       "      <td>...</td>\n",
       "      <td>-1</td>\n",
       "      <td>157</td>\n",
       "      <td>196.98</td>\n",
       "      <td>0</td>\n",
       "      <td>2014-10-21 00:05:35.779000</td>\n",
       "      <td>0</td>\n",
       "      <td>0</td>\n",
       "      <td>0</td>\n",
       "      <td>1</td>\n",
       "      <td>0</td>\n",
       "    </tr>\n",
       "  </tbody>\n",
       "</table>\n",
       "<p>5 rows × 22 columns</p>\n",
       "</div>"
      ],
      "text/plain": [
       "  id      timestamp product_id product_department product_category   card_id  \\\n",
       "0  0  1413851531856   f3845767           1fbe01fe         28905ebd  ecad2386   \n",
       "1  1  1413851817483   f3845767           1fbe01fe         28905ebd  ecad2386   \n",
       "2  2  1413852597526   f3845767           1fbe01fe         28905ebd  ecad2386   \n",
       "3  3  1413851283020   f3845767           1fbe01fe         28905ebd  ecad2386   \n",
       "4  4  1413849935779   9166c161           fe8cc448         0569f928  ecad2386   \n",
       "\n",
       "    user_id  C15 C16   C17  ...     C20  C21  amount isfraud  \\\n",
       "0  a99f214a  320  50  1722  ...      -1   79  184.09       0   \n",
       "1  a99f214a  320  50  1722  ...  100084   79  184.09       0   \n",
       "2  a99f214a  320  50  1722  ...  100084   79  184.09       0   \n",
       "3  a99f214a  320  50  1722  ...  100084   79  184.09       0   \n",
       "4  a99f214a  320  50  2161  ...      -1  157  196.98       0   \n",
       "\n",
       "                     datetime 28905ebd 3e814130 50e219e0 Other f028772b  \n",
       "0  2014-10-21 00:32:11.856000        1        0        0     0        0  \n",
       "1  2014-10-21 00:36:57.483000        1        0        0     0        0  \n",
       "2  2014-10-21 00:49:57.526000        1        0        0     0        0  \n",
       "3  2014-10-21 00:28:03.020000        1        0        0     0        0  \n",
       "4  2014-10-21 00:05:35.779000        0        0        0     1        0  \n",
       "\n",
       "[5 rows x 22 columns]"
      ]
     },
     "execution_count": 9,
     "metadata": {},
     "output_type": "execute_result"
    }
   ],
   "source": [
    "train_data_treated = pd.DataFrame(train_data_treated, columns = cols_train)\n",
    "train_data_treated.head()"
   ]
  },
  {
   "cell_type": "code",
   "execution_count": 10,
   "metadata": {},
   "outputs": [
    {
     "data": {
      "text/html": [
       "<div>\n",
       "<style scoped>\n",
       "    .dataframe tbody tr th:only-of-type {\n",
       "        vertical-align: middle;\n",
       "    }\n",
       "\n",
       "    .dataframe tbody tr th {\n",
       "        vertical-align: top;\n",
       "    }\n",
       "\n",
       "    .dataframe thead th {\n",
       "        text-align: right;\n",
       "    }\n",
       "</style>\n",
       "<table border=\"1\" class=\"dataframe\">\n",
       "  <thead>\n",
       "    <tr style=\"text-align: right;\">\n",
       "      <th></th>\n",
       "      <th>id</th>\n",
       "      <th>timestamp</th>\n",
       "      <th>product_id</th>\n",
       "      <th>product_department</th>\n",
       "      <th>product_category</th>\n",
       "      <th>card_id</th>\n",
       "      <th>user_id</th>\n",
       "      <th>C15</th>\n",
       "      <th>C16</th>\n",
       "      <th>C17</th>\n",
       "      <th>...</th>\n",
       "      <th>C19</th>\n",
       "      <th>C20</th>\n",
       "      <th>C21</th>\n",
       "      <th>amount</th>\n",
       "      <th>datetime</th>\n",
       "      <th>28905ebd</th>\n",
       "      <th>3e814130</th>\n",
       "      <th>50e219e0</th>\n",
       "      <th>Other</th>\n",
       "      <th>f028772b</th>\n",
       "    </tr>\n",
       "  </thead>\n",
       "  <tbody>\n",
       "    <tr>\n",
       "      <th>0</th>\n",
       "      <td>32263877</td>\n",
       "      <td>1414540656054</td>\n",
       "      <td>c4e18dd6</td>\n",
       "      <td>85f751fd</td>\n",
       "      <td>50e219e0</td>\n",
       "      <td>92f5800b</td>\n",
       "      <td>a99f214a</td>\n",
       "      <td>320</td>\n",
       "      <td>50</td>\n",
       "      <td>2424</td>\n",
       "      <td>...</td>\n",
       "      <td>161</td>\n",
       "      <td>100193</td>\n",
       "      <td>71</td>\n",
       "      <td>191.77</td>\n",
       "      <td>2014-10-28 23:57:36.054000</td>\n",
       "      <td>0</td>\n",
       "      <td>0</td>\n",
       "      <td>1</td>\n",
       "      <td>0</td>\n",
       "      <td>0</td>\n",
       "    </tr>\n",
       "    <tr>\n",
       "      <th>1</th>\n",
       "      <td>32263886</td>\n",
       "      <td>1414540614666</td>\n",
       "      <td>968765cd</td>\n",
       "      <td>6399eda6</td>\n",
       "      <td>f028772b</td>\n",
       "      <td>ecad2386</td>\n",
       "      <td>a99f214a</td>\n",
       "      <td>320</td>\n",
       "      <td>50</td>\n",
       "      <td>2526</td>\n",
       "      <td>...</td>\n",
       "      <td>167</td>\n",
       "      <td>100075</td>\n",
       "      <td>221</td>\n",
       "      <td>200.45</td>\n",
       "      <td>2014-10-28 23:56:54.666000</td>\n",
       "      <td>0</td>\n",
       "      <td>0</td>\n",
       "      <td>0</td>\n",
       "      <td>0</td>\n",
       "      <td>1</td>\n",
       "    </tr>\n",
       "    <tr>\n",
       "      <th>2</th>\n",
       "      <td>32263890</td>\n",
       "      <td>1414540692012</td>\n",
       "      <td>7e091613</td>\n",
       "      <td>e151e245</td>\n",
       "      <td>f028772b</td>\n",
       "      <td>ecad2386</td>\n",
       "      <td>a99f214a</td>\n",
       "      <td>320</td>\n",
       "      <td>50</td>\n",
       "      <td>1872</td>\n",
       "      <td>...</td>\n",
       "      <td>39</td>\n",
       "      <td>-1</td>\n",
       "      <td>23</td>\n",
       "      <td>169.51</td>\n",
       "      <td>2014-10-28 23:58:12.012000</td>\n",
       "      <td>0</td>\n",
       "      <td>0</td>\n",
       "      <td>0</td>\n",
       "      <td>0</td>\n",
       "      <td>1</td>\n",
       "    </tr>\n",
       "    <tr>\n",
       "      <th>3</th>\n",
       "      <td>32263895</td>\n",
       "      <td>1414540720045</td>\n",
       "      <td>7e091613</td>\n",
       "      <td>e151e245</td>\n",
       "      <td>f028772b</td>\n",
       "      <td>ecad2386</td>\n",
       "      <td>a99f214a</td>\n",
       "      <td>320</td>\n",
       "      <td>50</td>\n",
       "      <td>1872</td>\n",
       "      <td>...</td>\n",
       "      <td>39</td>\n",
       "      <td>-1</td>\n",
       "      <td>23</td>\n",
       "      <td>169.51</td>\n",
       "      <td>2014-10-28 23:58:40.045000</td>\n",
       "      <td>0</td>\n",
       "      <td>0</td>\n",
       "      <td>0</td>\n",
       "      <td>0</td>\n",
       "      <td>1</td>\n",
       "    </tr>\n",
       "    <tr>\n",
       "      <th>4</th>\n",
       "      <td>32263896</td>\n",
       "      <td>1414540641750</td>\n",
       "      <td>c4e18dd6</td>\n",
       "      <td>85f751fd</td>\n",
       "      <td>50e219e0</td>\n",
       "      <td>73206397</td>\n",
       "      <td>cc6c0613</td>\n",
       "      <td>320</td>\n",
       "      <td>50</td>\n",
       "      <td>2665</td>\n",
       "      <td>...</td>\n",
       "      <td>35</td>\n",
       "      <td>-1</td>\n",
       "      <td>221</td>\n",
       "      <td>191.77</td>\n",
       "      <td>2014-10-28 23:57:21.750000</td>\n",
       "      <td>0</td>\n",
       "      <td>0</td>\n",
       "      <td>1</td>\n",
       "      <td>0</td>\n",
       "      <td>0</td>\n",
       "    </tr>\n",
       "  </tbody>\n",
       "</table>\n",
       "<p>5 rows × 21 columns</p>\n",
       "</div>"
      ],
      "text/plain": [
       "         id      timestamp product_id product_department product_category  \\\n",
       "0  32263877  1414540656054   c4e18dd6           85f751fd         50e219e0   \n",
       "1  32263886  1414540614666   968765cd           6399eda6         f028772b   \n",
       "2  32263890  1414540692012   7e091613           e151e245         f028772b   \n",
       "3  32263895  1414540720045   7e091613           e151e245         f028772b   \n",
       "4  32263896  1414540641750   c4e18dd6           85f751fd         50e219e0   \n",
       "\n",
       "    card_id   user_id  C15 C16   C17  ...  C19     C20  C21  amount  \\\n",
       "0  92f5800b  a99f214a  320  50  2424  ...  161  100193   71  191.77   \n",
       "1  ecad2386  a99f214a  320  50  2526  ...  167  100075  221  200.45   \n",
       "2  ecad2386  a99f214a  320  50  1872  ...   39      -1   23  169.51   \n",
       "3  ecad2386  a99f214a  320  50  1872  ...   39      -1   23  169.51   \n",
       "4  73206397  cc6c0613  320  50  2665  ...   35      -1  221  191.77   \n",
       "\n",
       "                     datetime 28905ebd 3e814130 50e219e0 Other f028772b  \n",
       "0  2014-10-28 23:57:36.054000        0        0        1     0        0  \n",
       "1  2014-10-28 23:56:54.666000        0        0        0     0        1  \n",
       "2  2014-10-28 23:58:12.012000        0        0        0     0        1  \n",
       "3  2014-10-28 23:58:40.045000        0        0        0     0        1  \n",
       "4  2014-10-28 23:57:21.750000        0        0        1     0        0  \n",
       "\n",
       "[5 rows x 21 columns]"
      ]
     },
     "execution_count": 10,
     "metadata": {},
     "output_type": "execute_result"
    }
   ],
   "source": [
    "test_data_treated = pd.DataFrame(test_data_treated, columns = cols_test)\n",
    "test_data_treated.head()"
   ]
  },
  {
   "cell_type": "markdown",
   "metadata": {},
   "source": [
    "# Overall analysis\n",
    "* There are no null values in neither of the dataset, however, the are clearly values which are ***imputed to -1*** in the `C20` attribute as stated in Kaggle. These were probably nulls.\n",
    "* 17% of the entries in the data are fraudulent."
   ]
  },
  {
   "cell_type": "code",
   "execution_count": 56,
   "metadata": {},
   "outputs": [
    {
     "name": "stdout",
     "output_type": "stream",
     "text": [
      "<class 'pandas.core.frame.DataFrame'>\n",
      "RangeIndex: 32369524 entries, 0 to 32369523\n",
      "Data columns (total 21 columns):\n",
      "id                    32369524 non-null object\n",
      "timestamp             32369524 non-null object\n",
      "product_id            32369524 non-null object\n",
      "product_department    32369524 non-null object\n",
      "product_category      32369524 non-null object\n",
      "card_id               32369524 non-null object\n",
      "user_id               32369524 non-null object\n",
      "C15                   32369524 non-null object\n",
      "C16                   32369524 non-null object\n",
      "C17                   32369524 non-null object\n",
      "C18                   32369524 non-null object\n",
      "C19                   32369524 non-null object\n",
      "C20                   32369524 non-null object\n",
      "C21                   32369524 non-null object\n",
      "amount                32369524 non-null object\n",
      "isfraud               32369524 non-null object\n",
      "datetime              32369524 non-null object\n",
      "28905ebd              32369524 non-null object\n",
      "3e814130              32369524 non-null object\n",
      "50e219e0              32369524 non-null object\n",
      "Other                 32369524 non-null object\n",
      "dtypes: object(21)\n",
      "memory usage: 5.1+ GB\n"
     ]
    }
   ],
   "source": [
    "test_data_treated.info(null_counts = True)"
   ]
  },
  {
   "cell_type": "code",
   "execution_count": 54,
   "metadata": {},
   "outputs": [
    {
     "name": "stdout",
     "output_type": "stream",
     "text": [
      "<class 'pandas.core.frame.DataFrame'>\n",
      "RangeIndex: 32369524 entries, 0 to 32369523\n",
      "Data columns (total 22 columns):\n",
      "id                    32369524 non-null object\n",
      "timestamp             32369524 non-null object\n",
      "product_id            32369524 non-null object\n",
      "product_department    32369524 non-null object\n",
      "product_category      32369524 non-null object\n",
      "card_id               32369524 non-null object\n",
      "user_id               32369524 non-null object\n",
      "C15                   32369524 non-null object\n",
      "C16                   32369524 non-null object\n",
      "C17                   32369524 non-null object\n",
      "C18                   32369524 non-null object\n",
      "C19                   32369524 non-null object\n",
      "C20                   32369524 non-null object\n",
      "C21                   32369524 non-null object\n",
      "amount                32369524 non-null object\n",
      "isfraud               32369524 non-null object\n",
      "datetime              32369524 non-null object\n",
      "28905ebd              32369524 non-null object\n",
      "3e814130              32369524 non-null object\n",
      "50e219e0              32369524 non-null object\n",
      "Other                 32369524 non-null object\n",
      "f028772b              32369524 non-null object\n",
      "dtypes: object(22)\n",
      "memory usage: 5.3+ GB\n"
     ]
    }
   ],
   "source": [
    "train_data_treated.info(null_counts = True)"
   ]
  },
  {
   "cell_type": "markdown",
   "metadata": {},
   "source": [
    "### Value counts"
   ]
  },
  {
   "cell_type": "code",
   "execution_count": 32,
   "metadata": {},
   "outputs": [
    {
     "name": "stdout",
     "output_type": "stream",
     "text": [
      "Train: \n",
      "0    26819827\n",
      "1     5549697\n",
      "Name: isfraud, dtype: int64\n",
      "0    0.828552\n",
      "1    0.171448\n",
      "Name: isfraud, dtype: float64\n"
     ]
    }
   ],
   "source": [
    "print(\"Train: \")\n",
    "fraud_counts = train_data['isfraud'].value_counts()\n",
    "print(fraud_counts)\n",
    "print(fraud_counts / train_data.shape[0])"
   ]
  },
  {
   "cell_type": "markdown",
   "metadata": {},
   "source": [
    "### Histograms"
   ]
  },
  {
   "cell_type": "code",
   "execution_count": 6,
   "metadata": {},
   "outputs": [],
   "source": [
    "train_hist = train_data[['C15', 'C16', 'C17', 'C18', 'C19', 'C20', 'C21', 'amount']]"
   ]
  },
  {
   "cell_type": "code",
   "execution_count": 7,
   "metadata": {},
   "outputs": [
    {
     "data": {
      "text/plain": [
       "[]"
      ]
     },
     "execution_count": 7,
     "metadata": {},
     "output_type": "execute_result"
    },
    {
     "data": {
      "image/png": "[encoded data removed]",
      "text/plain": [
       "<Figure size 1440x1440 with 9 Axes>"
      ]
     },
     "metadata": {
      "needs_background": "light"
     },
     "output_type": "display_data"
    }
   ],
   "source": [
    "train_hist.hist(bins = 50, figsize=(20,20), density=True)\n",
    "plt.plot()"
   ]
  },
  {
   "cell_type": "code",
   "execution_count": 63,
   "metadata": {},
   "outputs": [
    {
     "data": {
      "text/plain": [
       "-1         15059166\n",
       " 100084     2033777\n",
       " 100111     1448778\n",
       " 100148     1374808\n",
       " 100077     1306586\n",
       "Name: C20, dtype: int64"
      ]
     },
     "execution_count": 63,
     "metadata": {},
     "output_type": "execute_result"
    }
   ],
   "source": [
    "train_data['C20'].value_counts()[:5]"
   ]
  },
  {
   "cell_type": "markdown",
   "metadata": {},
   "source": [
    "# One by one analyzis\n",
    "### timestamp/datetime\n",
    "* The train data contains data from 8 days, while the test data contains data from the 2 days after.\n",
    "* Although there doesn't seem to exist a clear relevance of time of the day in the fraction of frauds, it should be used also.\n",
    "* Thoughout the days the fraud rate is also the same."
   ]
  },
  {
   "cell_type": "code",
   "execution_count": 40,
   "metadata": {},
   "outputs": [
    {
     "data": {
      "text/plain": [
       "(Timestamp('2014-10-21 00:32:11.856000'),\n",
       " Timestamp('2014-10-28 23:19:01.526000'))"
      ]
     },
     "execution_count": 40,
     "metadata": {},
     "output_type": "execute_result"
    }
   ],
   "source": [
    "train_data_treated.loc[0,'datetime'], train_data_treated.iloc[-1]['datetime']"
   ]
  },
  {
   "cell_type": "code",
   "execution_count": 55,
   "metadata": {},
   "outputs": [
    {
     "data": {
      "text/plain": [
       "(Timestamp('2014-10-28 23:57:36.054000'),\n",
       " Timestamp('2014-10-30 23:55:45.814000'))"
      ]
     },
     "execution_count": 55,
     "metadata": {},
     "output_type": "execute_result"
    }
   ],
   "source": [
    "test_data_treated.loc[0,'datetime'], test_data_treated.iloc[-1]['datetime']"
   ]
  },
  {
   "cell_type": "markdown",
   "metadata": {},
   "source": [
    "### Hour"
   ]
  },
  {
   "cell_type": "code",
   "execution_count": 11,
   "metadata": {},
   "outputs": [
    {
     "data": {
      "text/plain": [
       "0      658895\n",
       "1      774563\n",
       "2      983039\n",
       "3     1049410\n",
       "4     1404619\n",
       "5     1605674\n",
       "6     1427460\n",
       "7     1472916\n",
       "8     1729277\n",
       "9     1894252\n",
       "10    1709843\n",
       "11    1670682\n",
       "12    1775172\n",
       "13    1944962\n",
       "14    1720095\n",
       "15    1646324\n",
       "16    1661153\n",
       "17    1693217\n",
       "18    1466573\n",
       "19    1058561\n",
       "20     892866\n",
       "21     784973\n",
       "22     716090\n",
       "23     628908\n",
       "Name: hour_of_day, dtype: int64"
      ]
     },
     "execution_count": 11,
     "metadata": {},
     "output_type": "execute_result"
    }
   ],
   "source": [
    "datetime = train_data_treated['datetime']\n",
    "train_data_treated['hour_of_day'] = [dt.time().hour for dt in datetime]\n",
    "train_data_treated['hour_of_day'].value_counts(sort=False)"
   ]
  },
  {
   "cell_type": "code",
   "execution_count": 12,
   "metadata": {},
   "outputs": [
    {
     "data": {
      "image/png": "[encoded data removed]",
      "text/plain": [
       "<Figure size 432x288 with 1 Axes>"
      ]
     },
     "metadata": {
      "needs_background": "light"
     },
     "output_type": "display_data"
    }
   ],
   "source": [
    "train_data_treated['isfraud'] = train_data_treated['isfraud'].astype(int)\n",
    "frauds_by_hour_of_day = train_data_treated[['hour_of_day', 'isfraud']].groupby(by='hour_of_day').mean()\n",
    "frauds_by_hour_of_day.index\n",
    "plt.bar(frauds_by_hour_of_day.index, frauds_by_hour_of_day['isfraud'])\n",
    "plt.show()"
   ]
  },
  {
   "cell_type": "markdown",
   "metadata": {},
   "source": [
    "### Day"
   ]
  },
  {
   "cell_type": "code",
   "execution_count": 17,
   "metadata": {},
   "outputs": [
    {
     "data": {
      "text/plain": [
       "21    4122995\n",
       "22    5337126\n",
       "23    3870752\n",
       "24    3335302\n",
       "25    3363122\n",
       "26    3835892\n",
       "27    3225010\n",
       "28    5279325\n",
       "Name: day, dtype: int64"
      ]
     },
     "execution_count": 17,
     "metadata": {},
     "output_type": "execute_result"
    }
   ],
   "source": [
    "train_data_treated['day'] = [dt.day for dt in datetime]\n",
    "train_data_treated['day'].value_counts(sort=False)"
   ]
  },
  {
   "cell_type": "code",
   "execution_count": 18,
   "metadata": {},
   "outputs": [
    {
     "data": {
      "image/png": "[encoded data removed]",
      "text/plain": [
       "<Figure size 432x288 with 1 Axes>"
      ]
     },
     "metadata": {
      "needs_background": "light"
     },
     "output_type": "display_data"
    }
   ],
   "source": [
    "frauds_by_day = train_data_treated[['day', 'isfraud']].groupby(by='day').mean()\n",
    "frauds_by_day.index\n",
    "plt.bar(frauds_by_day.index, frauds_by_day['isfraud'])\n",
    "plt.show()"
   ]
  },
  {
   "cell_type": "markdown",
   "metadata": {},
   "source": [
    "## Product\n",
    "* Almost every department is linked to a single category, which makes the category information very redundant when using the department.\n",
    "* ID's in average are linked to 2.75 different `department_category` combinations, separating the ID information from this combination would also result in a lot of redudancy.\n",
    "* Therefore, it is best to use the concatenated `cat_dep_id` attribute\n",
    "* Different product categories have different fraud rates, hence it would probably be useful to label encode them with the values sorted by fraud probability"
   ]
  },
  {
   "cell_type": "code",
   "execution_count": 25,
   "metadata": {},
   "outputs": [
    {
     "data": {
      "text/plain": [
       "26"
      ]
     },
     "execution_count": 25,
     "metadata": {},
     "output_type": "execute_result"
    }
   ],
   "source": [
    "len(train_data['product_category'].value_counts())"
   ]
  },
  {
   "cell_type": "code",
   "execution_count": 26,
   "metadata": {},
   "outputs": [
    {
     "data": {
      "text/plain": [
       "4551"
      ]
     },
     "execution_count": 26,
     "metadata": {},
     "output_type": "execute_result"
    }
   ],
   "source": [
    "len(train_data['product_department'].value_counts())"
   ]
  },
  {
   "cell_type": "code",
   "execution_count": 29,
   "metadata": {},
   "outputs": [
    {
     "data": {
      "text/plain": [
       "4552"
      ]
     },
     "execution_count": 29,
     "metadata": {},
     "output_type": "execute_result"
    }
   ],
   "source": [
    "category_department = pd.Series([a + '-' + b for a, b in zip(train_data['product_category'], train_data['product_department'])])\n",
    "len(category_department.value_counts())"
   ]
  },
  {
   "cell_type": "code",
   "execution_count": 27,
   "metadata": {},
   "outputs": [
    {
     "data": {
      "text/plain": [
       "7298"
      ]
     },
     "execution_count": 27,
     "metadata": {},
     "output_type": "execute_result"
    }
   ],
   "source": [
    "len(train_data['product_id'].value_counts())"
   ]
  },
  {
   "cell_type": "code",
   "execution_count": 28,
   "metadata": {},
   "outputs": [
    {
     "data": {
      "text/plain": [
       "20036"
      ]
     },
     "execution_count": 28,
     "metadata": {},
     "output_type": "execute_result"
    }
   ],
   "source": [
    "category_department_id = pd.Series([a + '-' + b + '-' + c for (a, b), c in zip(zip(train_data['product_category'], train_data['product_department']), train_data['product_id'])])\n",
    "len(category_department_id.value_counts())"
   ]
  },
  {
   "cell_type": "code",
   "execution_count": 30,
   "metadata": {},
   "outputs": [
    {
     "data": {
      "text/plain": [
       "2.745409701288024"
      ]
     },
     "execution_count": 30,
     "metadata": {},
     "output_type": "execute_result"
    }
   ],
   "source": [
    "20036 / 7298"
   ]
  },
  {
   "cell_type": "code",
   "execution_count": 115,
   "metadata": {},
   "outputs": [
    {
     "data": {
      "image/png": "[encoded data removed]",
      "text/plain": [
       "<Figure size 1800x720 with 1 Axes>"
      ]
     },
     "metadata": {
      "needs_background": "light"
     },
     "output_type": "display_data"
    }
   ],
   "source": [
    "frauds_by_category = train_data[['product_category', 'isfraud']].groupby(by='product_category').mean()\n",
    "plt.figure(figsize=(25,10))\n",
    "plt.bar(frauds_by_category.index, frauds_by_category['isfraud'], width=0.5)\n",
    "plt.show()"
   ]
  },
  {
   "cell_type": "markdown",
   "metadata": {},
   "source": [
    "## User & Card\n",
    "* We want to know if the same happens with `user_id` and `card_id`\n",
    "* Each card is clearly almost always used only by one user, thus, we have a lot of redundant information again.\n",
    "* Perhaps it would not make a lot of sense in a live system prediction through the `user_id` or `card_id`, however, it will likely be helpful here."
   ]
  },
  {
   "cell_type": "code",
   "execution_count": 119,
   "metadata": {},
   "outputs": [
    {
     "data": {
      "text/plain": [
       "2217213"
      ]
     },
     "execution_count": 119,
     "metadata": {},
     "output_type": "execute_result"
    }
   ],
   "source": [
    "len(train_data['user_id'].value_counts())"
   ]
  },
  {
   "cell_type": "code",
   "execution_count": 120,
   "metadata": {},
   "outputs": [
    {
     "data": {
      "text/plain": [
       "8094"
      ]
     },
     "execution_count": 120,
     "metadata": {},
     "output_type": "execute_result"
    }
   ],
   "source": [
    "len(train_data['card_id'].value_counts())"
   ]
  },
  {
   "cell_type": "code",
   "execution_count": 121,
   "metadata": {},
   "outputs": [
    {
     "data": {
      "text/plain": [
       "2316047"
      ]
     },
     "execution_count": 121,
     "metadata": {},
     "output_type": "execute_result"
    }
   ],
   "source": [
    "card_user = pd.Series([a + '-' + b for a, b in zip(train_data['card_id'], train_data['user_id'])])\n",
    "len(card_user.value_counts())"
   ]
  },
  {
   "cell_type": "code",
   "execution_count": 123,
   "metadata": {},
   "outputs": [
    {
     "data": {
      "text/plain": [
       "1.0445757804956042"
      ]
     },
     "execution_count": 123,
     "metadata": {},
     "output_type": "execute_result"
    }
   ],
   "source": [
    "2316047/2217213"
   ]
  },
  {
   "cell_type": "code",
   "execution_count": 128,
   "metadata": {},
   "outputs": [
    {
     "data": {
      "image/png": "[encoded data removed]",
      "text/plain": [
       "<Figure size 1800x720 with 1 Axes>"
      ]
     },
     "metadata": {
      "needs_background": "light"
     },
     "output_type": "display_data"
    }
   ],
   "source": [
    "frauds_by_card = train_data[['card_id', 'isfraud']].groupby(by='card_id').mean()\n",
    "plt.figure(figsize=(25,10))\n",
    "plt.bar(list(range(len(frauds_by_card))), frauds_by_card['isfraud'])\n",
    "plt.show()"
   ]
  },
  {
   "cell_type": "markdown",
   "metadata": {},
   "source": [
    "## Anonymized Categorical Variables\n",
    "* In the kaggle page it said that the `Cxx` attributes are categorical. I would like to check if that is true\n",
    "* They appear to be because they are all integeres and with no seamless connection correlation to the fraud rate.\n",
    "* Given that `C18` has only 4 different values that are evenly enough distributed, perhaps one-hot encoding them would be good.\n",
    "* `C15` and `C16` have the exact same amounts for a lot of values. After analyzing the concatenation of the 2 attributes we can see that it produces almost the same number of unique values, which means we can (and should) use them that way\n",
    "* `C18` and `C17` also have 1.05 ratio of dependency"
   ]
  },
  {
   "cell_type": "markdown",
   "metadata": {},
   "source": [
    "## C15"
   ]
  },
  {
   "cell_type": "code",
   "execution_count": 129,
   "metadata": {},
   "outputs": [
    {
     "data": {
      "text/plain": [
       "320     30164042\n",
       "300      1852330\n",
       "216       283371\n",
       "728        63166\n",
       "120         2450\n",
       "480         1875\n",
       "1024        1269\n",
       "768         1021\n",
       "Name: C15, dtype: int64"
      ]
     },
     "execution_count": 129,
     "metadata": {},
     "output_type": "execute_result"
    }
   ],
   "source": [
    "train_data['C15'].value_counts()"
   ]
  },
  {
   "cell_type": "code",
   "execution_count": 142,
   "metadata": {},
   "outputs": [
    {
     "data": {
      "text/plain": [
       "(120, 1024)"
      ]
     },
     "execution_count": 142,
     "metadata": {},
     "output_type": "execute_result"
    }
   ],
   "source": [
    "x = train_data['C15']\n",
    "x.min(), x.max()"
   ]
  },
  {
   "cell_type": "code",
   "execution_count": 35,
   "metadata": {},
   "outputs": [
    {
     "data": {
      "image/png": "[encoded data removed]",
      "text/plain": [
       "<Figure size 720x360 with 1 Axes>"
      ]
     },
     "metadata": {
      "needs_background": "light"
     },
     "output_type": "display_data"
    }
   ],
   "source": [
    "frauds_by_C15 = train_data[['C15', 'isfraud']].groupby(by='C15').mean()\n",
    "plt.figure(figsize=(10,5))\n",
    "plt.bar(list(frauds_by_C15.index), frauds_by_C15['isfraud'], width=10)\n",
    "plt.show()"
   ]
  },
  {
   "cell_type": "markdown",
   "metadata": {},
   "source": [
    "## C16"
   ]
  },
  {
   "cell_type": "code",
   "execution_count": 130,
   "metadata": {},
   "outputs": [
    {
     "data": {
      "text/plain": [
       "50      30440126\n",
       "250      1487082\n",
       "36        283371\n",
       "480        89164\n",
       "90         63166\n",
       "20          2450\n",
       "320         1875\n",
       "768         1269\n",
       "1024        1021\n",
       "Name: C16, dtype: int64"
      ]
     },
     "execution_count": 130,
     "metadata": {},
     "output_type": "execute_result"
    }
   ],
   "source": [
    "train_data['C16'].value_counts()"
   ]
  },
  {
   "cell_type": "code",
   "execution_count": 143,
   "metadata": {},
   "outputs": [
    {
     "data": {
      "text/plain": [
       "(20, 1024)"
      ]
     },
     "execution_count": 143,
     "metadata": {},
     "output_type": "execute_result"
    }
   ],
   "source": [
    "x = train_data['C16']\n",
    "x.min(), x.max()"
   ]
  },
  {
   "cell_type": "code",
   "execution_count": 11,
   "metadata": {},
   "outputs": [
    {
     "data": {
      "text/html": [
       "<div>\n",
       "<style scoped>\n",
       "    .dataframe tbody tr th:only-of-type {\n",
       "        vertical-align: middle;\n",
       "    }\n",
       "\n",
       "    .dataframe tbody tr th {\n",
       "        vertical-align: top;\n",
       "    }\n",
       "\n",
       "    .dataframe thead th {\n",
       "        text-align: right;\n",
       "    }\n",
       "</style>\n",
       "<table border=\"1\" class=\"dataframe\">\n",
       "  <thead>\n",
       "    <tr style=\"text-align: right;\">\n",
       "      <th></th>\n",
       "      <th>isfraud</th>\n",
       "    </tr>\n",
       "    <tr>\n",
       "      <th>C16</th>\n",
       "      <th></th>\n",
       "    </tr>\n",
       "  </thead>\n",
       "  <tbody>\n",
       "    <tr>\n",
       "      <th>20</th>\n",
       "      <td>0.020816</td>\n",
       "    </tr>\n",
       "    <tr>\n",
       "      <th>36</th>\n",
       "      <td>0.125037</td>\n",
       "    </tr>\n",
       "    <tr>\n",
       "      <th>50</th>\n",
       "      <td>0.159458</td>\n",
       "    </tr>\n",
       "    <tr>\n",
       "      <th>90</th>\n",
       "      <td>0.060301</td>\n",
       "    </tr>\n",
       "    <tr>\n",
       "      <th>250</th>\n",
       "      <td>0.427809</td>\n",
       "    </tr>\n",
       "    <tr>\n",
       "      <th>320</th>\n",
       "      <td>0.263467</td>\n",
       "    </tr>\n",
       "    <tr>\n",
       "      <th>480</th>\n",
       "      <td>0.210017</td>\n",
       "    </tr>\n",
       "    <tr>\n",
       "      <th>768</th>\n",
       "      <td>0.433412</td>\n",
       "    </tr>\n",
       "    <tr>\n",
       "      <th>1024</th>\n",
       "      <td>0.508325</td>\n",
       "    </tr>\n",
       "  </tbody>\n",
       "</table>\n",
       "</div>"
      ],
      "text/plain": [
       "       isfraud\n",
       "C16           \n",
       "20    0.020816\n",
       "36    0.125037\n",
       "50    0.159458\n",
       "90    0.060301\n",
       "250   0.427809\n",
       "320   0.263467\n",
       "480   0.210017\n",
       "768   0.433412\n",
       "1024  0.508325"
      ]
     },
     "execution_count": 11,
     "metadata": {},
     "output_type": "execute_result"
    }
   ],
   "source": [
    "frauds_by_C16"
   ]
  },
  {
   "cell_type": "code",
   "execution_count": 36,
   "metadata": {},
   "outputs": [
    {
     "data": {
      "image/png": "[encoded data removed]",
      "text/plain": [
       "<Figure size 720x360 with 1 Axes>"
      ]
     },
     "metadata": {
      "needs_background": "light"
     },
     "output_type": "display_data"
    }
   ],
   "source": [
    "frauds_by_C16 = train_data[['C16', 'isfraud']].groupby(by='C16').mean()\n",
    "plt.figure(figsize=(10,5))\n",
    "plt.bar(frauds_by_C16.index, frauds_by_C16['isfraud'], width=10)\n",
    "plt.show()"
   ]
  },
  {
   "cell_type": "markdown",
   "metadata": {},
   "source": [
    "### C15 + C16"
   ]
  },
  {
   "cell_type": "code",
   "execution_count": 83,
   "metadata": {},
   "outputs": [
    {
     "name": "stdout",
     "output_type": "stream",
     "text": [
      "10\n"
     ]
    },
    {
     "data": {
      "text/plain": [
       "320-50      30074878\n",
       "300-250      1487082\n",
       "300-50        365248\n",
       "216-36        283371\n",
       "320-480        89164\n",
       "728-90         63166\n",
       "120-20          2450\n",
       "480-320         1875\n",
       "1024-768        1269\n",
       "768-1024        1021\n",
       "dtype: int64"
      ]
     },
     "execution_count": 83,
     "metadata": {},
     "output_type": "execute_result"
    }
   ],
   "source": [
    "C15_C16 = pd.Series([str(a) + '-' + str(b) for a, b in zip(train_data['C15'], train_data['C16'])])\n",
    "C15_C16.value_counts()"
   ]
  },
  {
   "cell_type": "markdown",
   "metadata": {},
   "source": [
    "## C17"
   ]
  },
  {
   "cell_type": "code",
   "execution_count": 144,
   "metadata": {},
   "outputs": [
    {
     "data": {
      "text/plain": [
       "372"
      ]
     },
     "execution_count": 144,
     "metadata": {},
     "output_type": "execute_result"
    }
   ],
   "source": [
    "len(train_data['C17'].value_counts())"
   ]
  },
  {
   "cell_type": "code",
   "execution_count": 146,
   "metadata": {},
   "outputs": [
    {
     "data": {
      "text/plain": [
       "(112, 2688)"
      ]
     },
     "execution_count": 146,
     "metadata": {},
     "output_type": "execute_result"
    }
   ],
   "source": [
    "x = train_data['C17']\n",
    "x.min(), x.max()"
   ]
  },
  {
   "cell_type": "code",
   "execution_count": 38,
   "metadata": {},
   "outputs": [
    {
     "data": {
      "image/png": "[encoded data removed]",
      "text/plain": [
       "<Figure size 720x360 with 1 Axes>"
      ]
     },
     "metadata": {
      "needs_background": "light"
     },
     "output_type": "display_data"
    }
   ],
   "source": [
    "frauds_by_C17 = train_data[['C17', 'isfraud']].groupby(by='C17').mean()\n",
    "plt.figure(figsize=(10,5))\n",
    "plt.bar(frauds_by_C17.index, frauds_by_C17['isfraud'], width=5)\n",
    "plt.show()"
   ]
  },
  {
   "cell_type": "markdown",
   "metadata": {},
   "source": [
    "## C18"
   ]
  },
  {
   "cell_type": "code",
   "execution_count": 147,
   "metadata": {},
   "outputs": [
    {
     "data": {
      "text/plain": [
       "0    13520676\n",
       "3    10819205\n",
       "2     5605622\n",
       "1     2424021\n",
       "Name: C18, dtype: int64"
      ]
     },
     "execution_count": 147,
     "metadata": {},
     "output_type": "execute_result"
    }
   ],
   "source": [
    "train_data['C18'].value_counts()"
   ]
  },
  {
   "cell_type": "code",
   "execution_count": 45,
   "metadata": {},
   "outputs": [
    {
     "data": {
      "image/png": "[encoded data removed]",
      "text/plain": [
       "<Figure size 720x360 with 1 Axes>"
      ]
     },
     "metadata": {
      "needs_background": "light"
     },
     "output_type": "display_data"
    }
   ],
   "source": [
    "frauds_by_C18 = train_data[['C18', 'isfraud']].groupby(by='C18').mean()\n",
    "plt.figure(figsize=(10,5))\n",
    "plt.bar(frauds_by_C18.index, frauds_by_C18['isfraud'], width=0.5)\n",
    "plt.show()"
   ]
  },
  {
   "cell_type": "markdown",
   "metadata": {},
   "source": [
    "## C19"
   ]
  },
  {
   "cell_type": "code",
   "execution_count": 8,
   "metadata": {},
   "outputs": [
    {
     "data": {
      "text/plain": [
       "63"
      ]
     },
     "execution_count": 8,
     "metadata": {},
     "output_type": "execute_result"
    }
   ],
   "source": [
    "len(train_data['C19'].value_counts())"
   ]
  },
  {
   "cell_type": "code",
   "execution_count": 152,
   "metadata": {},
   "outputs": [
    {
     "data": {
      "text/plain": [
       "(33, 1959)"
      ]
     },
     "execution_count": 152,
     "metadata": {},
     "output_type": "execute_result"
    }
   ],
   "source": [
    "x = train_data['C19']\n",
    "x.min(), x.max()"
   ]
  },
  {
   "cell_type": "code",
   "execution_count": 41,
   "metadata": {},
   "outputs": [
    {
     "data": {
      "image/png": "[encoded data removed]",
      "text/plain": [
       "<Figure size 720x360 with 1 Axes>"
      ]
     },
     "metadata": {
      "needs_background": "light"
     },
     "output_type": "display_data"
    }
   ],
   "source": [
    "frauds_by_C19 = train_data[['C19', 'isfraud']].groupby(by='C19').mean()\n",
    "plt.figure(figsize=(10,5))\n",
    "plt.bar(frauds_by_C19.index, frauds_by_C19['isfraud'], width=10)\n",
    "plt.show()"
   ]
  },
  {
   "cell_type": "markdown",
   "metadata": {},
   "source": [
    "## C20"
   ]
  },
  {
   "cell_type": "code",
   "execution_count": 49,
   "metadata": {},
   "outputs": [
    {
     "name": "stdout",
     "output_type": "stream",
     "text": [
      "\n",
      "Size:  172\n"
     ]
    },
    {
     "data": {
      "text/plain": [
       "-1         15059166\n",
       " 100084     2033777\n",
       " 100111     1448778\n",
       "Name: C20, dtype: int64"
      ]
     },
     "execution_count": 49,
     "metadata": {},
     "output_type": "execute_result"
    }
   ],
   "source": [
    "vc = train_data['C20'].value_counts()\n",
    "print('\\nSize: ',len(vc))\n",
    "vc[:3]"
   ]
  },
  {
   "cell_type": "code",
   "execution_count": 159,
   "metadata": {},
   "outputs": [
    {
     "data": {
      "text/plain": [
       "(-1, 100248)"
      ]
     },
     "execution_count": 159,
     "metadata": {},
     "output_type": "execute_result"
    }
   ],
   "source": [
    "x = train_data['C20']\n",
    "x.min(), x.max()"
   ]
  },
  {
   "cell_type": "code",
   "execution_count": 160,
   "metadata": {},
   "outputs": [
    {
     "data": {
      "text/plain": [
       "(100000, 100248)"
      ]
     },
     "execution_count": 160,
     "metadata": {},
     "output_type": "execute_result"
    }
   ],
   "source": [
    "x = x[x != -1]\n",
    "x.min(),x.max()"
   ]
  },
  {
   "cell_type": "code",
   "execution_count": 163,
   "metadata": {},
   "outputs": [
    {
     "data": {
      "text/plain": [
       "[]"
      ]
     },
     "execution_count": 163,
     "metadata": {},
     "output_type": "execute_result"
    },
    {
     "data": {
      "image/png": "[encoded data removed]",
      "text/plain": [
       "<Figure size 432x288 with 1 Axes>"
      ]
     },
     "metadata": {
      "needs_background": "light"
     },
     "output_type": "display_data"
    }
   ],
   "source": [
    "x.hist()\n",
    "plt.plot()"
   ]
  },
  {
   "cell_type": "code",
   "execution_count": 68,
   "metadata": {},
   "outputs": [
    {
     "data": {
      "text/html": [
       "<div>\n",
       "<style scoped>\n",
       "    .dataframe tbody tr th:only-of-type {\n",
       "        vertical-align: middle;\n",
       "    }\n",
       "\n",
       "    .dataframe tbody tr th {\n",
       "        vertical-align: top;\n",
       "    }\n",
       "\n",
       "    .dataframe thead th {\n",
       "        text-align: right;\n",
       "    }\n",
       "</style>\n",
       "<table border=\"1\" class=\"dataframe\">\n",
       "  <thead>\n",
       "    <tr style=\"text-align: right;\">\n",
       "      <th></th>\n",
       "      <th>isfraud</th>\n",
       "    </tr>\n",
       "    <tr>\n",
       "      <th>C20</th>\n",
       "      <th></th>\n",
       "    </tr>\n",
       "  </thead>\n",
       "  <tbody>\n",
       "    <tr>\n",
       "      <th>-1</th>\n",
       "      <td>0.194456</td>\n",
       "    </tr>\n",
       "  </tbody>\n",
       "</table>\n",
       "</div>"
      ],
      "text/plain": [
       "      isfraud\n",
       "C20          \n",
       "-1   0.194456"
      ]
     },
     "execution_count": 68,
     "metadata": {},
     "output_type": "execute_result"
    }
   ],
   "source": [
    "frauds_by_C20[:1]"
   ]
  },
  {
   "cell_type": "code",
   "execution_count": 10,
   "metadata": {},
   "outputs": [
    {
     "data": {
      "text/html": [
       "<div>\n",
       "<style scoped>\n",
       "    .dataframe tbody tr th:only-of-type {\n",
       "        vertical-align: middle;\n",
       "    }\n",
       "\n",
       "    .dataframe tbody tr th {\n",
       "        vertical-align: top;\n",
       "    }\n",
       "\n",
       "    .dataframe thead th {\n",
       "        text-align: right;\n",
       "    }\n",
       "</style>\n",
       "<table border=\"1\" class=\"dataframe\">\n",
       "  <thead>\n",
       "    <tr style=\"text-align: right;\">\n",
       "      <th></th>\n",
       "      <th>isfraud</th>\n",
       "    </tr>\n",
       "    <tr>\n",
       "      <th>C20</th>\n",
       "      <th></th>\n",
       "    </tr>\n",
       "  </thead>\n",
       "  <tbody>\n",
       "    <tr>\n",
       "      <th>-1</th>\n",
       "      <td>0.194456</td>\n",
       "    </tr>\n",
       "    <tr>\n",
       "      <th>100000</th>\n",
       "      <td>0.092080</td>\n",
       "    </tr>\n",
       "    <tr>\n",
       "      <th>100001</th>\n",
       "      <td>0.180725</td>\n",
       "    </tr>\n",
       "    <tr>\n",
       "      <th>100002</th>\n",
       "      <td>0.114857</td>\n",
       "    </tr>\n",
       "    <tr>\n",
       "      <th>100003</th>\n",
       "      <td>0.047644</td>\n",
       "    </tr>\n",
       "    <tr>\n",
       "      <th>100004</th>\n",
       "      <td>0.115081</td>\n",
       "    </tr>\n",
       "    <tr>\n",
       "      <th>100005</th>\n",
       "      <td>0.050887</td>\n",
       "    </tr>\n",
       "    <tr>\n",
       "      <th>100006</th>\n",
       "      <td>0.500000</td>\n",
       "    </tr>\n",
       "    <tr>\n",
       "      <th>100008</th>\n",
       "      <td>0.000000</td>\n",
       "    </tr>\n",
       "    <tr>\n",
       "      <th>100010</th>\n",
       "      <td>0.190141</td>\n",
       "    </tr>\n",
       "    <tr>\n",
       "      <th>100012</th>\n",
       "      <td>0.086391</td>\n",
       "    </tr>\n",
       "    <tr>\n",
       "      <th>100013</th>\n",
       "      <td>0.138319</td>\n",
       "    </tr>\n",
       "    <tr>\n",
       "      <th>100016</th>\n",
       "      <td>0.109018</td>\n",
       "    </tr>\n",
       "    <tr>\n",
       "      <th>100019</th>\n",
       "      <td>0.160583</td>\n",
       "    </tr>\n",
       "    <tr>\n",
       "      <th>100020</th>\n",
       "      <td>0.069689</td>\n",
       "    </tr>\n",
       "    <tr>\n",
       "      <th>100021</th>\n",
       "      <td>0.184571</td>\n",
       "    </tr>\n",
       "    <tr>\n",
       "      <th>100022</th>\n",
       "      <td>0.203259</td>\n",
       "    </tr>\n",
       "    <tr>\n",
       "      <th>100024</th>\n",
       "      <td>0.089552</td>\n",
       "    </tr>\n",
       "    <tr>\n",
       "      <th>100025</th>\n",
       "      <td>0.090951</td>\n",
       "    </tr>\n",
       "    <tr>\n",
       "      <th>100026</th>\n",
       "      <td>0.096326</td>\n",
       "    </tr>\n",
       "    <tr>\n",
       "      <th>100027</th>\n",
       "      <td>0.000000</td>\n",
       "    </tr>\n",
       "    <tr>\n",
       "      <th>100028</th>\n",
       "      <td>0.120618</td>\n",
       "    </tr>\n",
       "    <tr>\n",
       "      <th>100029</th>\n",
       "      <td>0.156818</td>\n",
       "    </tr>\n",
       "    <tr>\n",
       "      <th>100031</th>\n",
       "      <td>0.190445</td>\n",
       "    </tr>\n",
       "    <tr>\n",
       "      <th>100032</th>\n",
       "      <td>0.078293</td>\n",
       "    </tr>\n",
       "    <tr>\n",
       "      <th>100033</th>\n",
       "      <td>0.086037</td>\n",
       "    </tr>\n",
       "    <tr>\n",
       "      <th>100034</th>\n",
       "      <td>0.217997</td>\n",
       "    </tr>\n",
       "    <tr>\n",
       "      <th>100037</th>\n",
       "      <td>0.097717</td>\n",
       "    </tr>\n",
       "    <tr>\n",
       "      <th>100039</th>\n",
       "      <td>0.103116</td>\n",
       "    </tr>\n",
       "    <tr>\n",
       "      <th>100040</th>\n",
       "      <td>0.099338</td>\n",
       "    </tr>\n",
       "    <tr>\n",
       "      <th>...</th>\n",
       "      <td>...</td>\n",
       "    </tr>\n",
       "    <tr>\n",
       "      <th>100188</th>\n",
       "      <td>0.128405</td>\n",
       "    </tr>\n",
       "    <tr>\n",
       "      <th>100189</th>\n",
       "      <td>0.026790</td>\n",
       "    </tr>\n",
       "    <tr>\n",
       "      <th>100190</th>\n",
       "      <td>0.022487</td>\n",
       "    </tr>\n",
       "    <tr>\n",
       "      <th>100191</th>\n",
       "      <td>0.089906</td>\n",
       "    </tr>\n",
       "    <tr>\n",
       "      <th>100192</th>\n",
       "      <td>0.029060</td>\n",
       "    </tr>\n",
       "    <tr>\n",
       "      <th>100193</th>\n",
       "      <td>0.021976</td>\n",
       "    </tr>\n",
       "    <tr>\n",
       "      <th>100194</th>\n",
       "      <td>0.084030</td>\n",
       "    </tr>\n",
       "    <tr>\n",
       "      <th>100195</th>\n",
       "      <td>0.102525</td>\n",
       "    </tr>\n",
       "    <tr>\n",
       "      <th>100198</th>\n",
       "      <td>0.000000</td>\n",
       "    </tr>\n",
       "    <tr>\n",
       "      <th>100199</th>\n",
       "      <td>0.084583</td>\n",
       "    </tr>\n",
       "    <tr>\n",
       "      <th>100200</th>\n",
       "      <td>0.118162</td>\n",
       "    </tr>\n",
       "    <tr>\n",
       "      <th>100202</th>\n",
       "      <td>0.076826</td>\n",
       "    </tr>\n",
       "    <tr>\n",
       "      <th>100205</th>\n",
       "      <td>0.195389</td>\n",
       "    </tr>\n",
       "    <tr>\n",
       "      <th>100206</th>\n",
       "      <td>0.259817</td>\n",
       "    </tr>\n",
       "    <tr>\n",
       "      <th>100209</th>\n",
       "      <td>0.000000</td>\n",
       "    </tr>\n",
       "    <tr>\n",
       "      <th>100210</th>\n",
       "      <td>0.152141</td>\n",
       "    </tr>\n",
       "    <tr>\n",
       "      <th>100212</th>\n",
       "      <td>0.159697</td>\n",
       "    </tr>\n",
       "    <tr>\n",
       "      <th>100213</th>\n",
       "      <td>0.248408</td>\n",
       "    </tr>\n",
       "    <tr>\n",
       "      <th>100215</th>\n",
       "      <td>0.136744</td>\n",
       "    </tr>\n",
       "    <tr>\n",
       "      <th>100217</th>\n",
       "      <td>0.144499</td>\n",
       "    </tr>\n",
       "    <tr>\n",
       "      <th>100221</th>\n",
       "      <td>0.220731</td>\n",
       "    </tr>\n",
       "    <tr>\n",
       "      <th>100224</th>\n",
       "      <td>0.265157</td>\n",
       "    </tr>\n",
       "    <tr>\n",
       "      <th>100225</th>\n",
       "      <td>0.117903</td>\n",
       "    </tr>\n",
       "    <tr>\n",
       "      <th>100228</th>\n",
       "      <td>0.156632</td>\n",
       "    </tr>\n",
       "    <tr>\n",
       "      <th>100229</th>\n",
       "      <td>0.046944</td>\n",
       "    </tr>\n",
       "    <tr>\n",
       "      <th>100233</th>\n",
       "      <td>0.140118</td>\n",
       "    </tr>\n",
       "    <tr>\n",
       "      <th>100241</th>\n",
       "      <td>0.161784</td>\n",
       "    </tr>\n",
       "    <tr>\n",
       "      <th>100244</th>\n",
       "      <td>0.136042</td>\n",
       "    </tr>\n",
       "    <tr>\n",
       "      <th>100246</th>\n",
       "      <td>0.083333</td>\n",
       "    </tr>\n",
       "    <tr>\n",
       "      <th>100248</th>\n",
       "      <td>0.179362</td>\n",
       "    </tr>\n",
       "  </tbody>\n",
       "</table>\n",
       "<p>172 rows × 1 columns</p>\n",
       "</div>"
      ],
      "text/plain": [
       "          isfraud\n",
       "C20              \n",
       "-1       0.194456\n",
       " 100000  0.092080\n",
       " 100001  0.180725\n",
       " 100002  0.114857\n",
       " 100003  0.047644\n",
       " 100004  0.115081\n",
       " 100005  0.050887\n",
       " 100006  0.500000\n",
       " 100008  0.000000\n",
       " 100010  0.190141\n",
       " 100012  0.086391\n",
       " 100013  0.138319\n",
       " 100016  0.109018\n",
       " 100019  0.160583\n",
       " 100020  0.069689\n",
       " 100021  0.184571\n",
       " 100022  0.203259\n",
       " 100024  0.089552\n",
       " 100025  0.090951\n",
       " 100026  0.096326\n",
       " 100027  0.000000\n",
       " 100028  0.120618\n",
       " 100029  0.156818\n",
       " 100031  0.190445\n",
       " 100032  0.078293\n",
       " 100033  0.086037\n",
       " 100034  0.217997\n",
       " 100037  0.097717\n",
       " 100039  0.103116\n",
       " 100040  0.099338\n",
       "...           ...\n",
       " 100188  0.128405\n",
       " 100189  0.026790\n",
       " 100190  0.022487\n",
       " 100191  0.089906\n",
       " 100192  0.029060\n",
       " 100193  0.021976\n",
       " 100194  0.084030\n",
       " 100195  0.102525\n",
       " 100198  0.000000\n",
       " 100199  0.084583\n",
       " 100200  0.118162\n",
       " 100202  0.076826\n",
       " 100205  0.195389\n",
       " 100206  0.259817\n",
       " 100209  0.000000\n",
       " 100210  0.152141\n",
       " 100212  0.159697\n",
       " 100213  0.248408\n",
       " 100215  0.136744\n",
       " 100217  0.144499\n",
       " 100221  0.220731\n",
       " 100224  0.265157\n",
       " 100225  0.117903\n",
       " 100228  0.156632\n",
       " 100229  0.046944\n",
       " 100233  0.140118\n",
       " 100241  0.161784\n",
       " 100244  0.136042\n",
       " 100246  0.083333\n",
       " 100248  0.179362\n",
       "\n",
       "[172 rows x 1 columns]"
      ]
     },
     "execution_count": 10,
     "metadata": {},
     "output_type": "execute_result"
    }
   ],
   "source": [
    "frauds_by_C20"
   ]
  },
  {
   "cell_type": "code",
   "execution_count": 9,
   "metadata": {},
   "outputs": [
    {
     "data": {
      "image/png": "[encoded data removed]",
      "text/plain": [
       "<Figure size 720x360 with 1 Axes>"
      ]
     },
     "metadata": {
      "needs_background": "light"
     },
     "output_type": "display_data"
    }
   ],
   "source": [
    "frauds_by_C20 = train_data[['C20', 'isfraud']].groupby(by='C20').mean()\n",
    "frauds_by_C20_clean = frauds_by_C20[1:]\n",
    "plt.figure(figsize=(10,5))\n",
    "plt.bar(frauds_by_C20_clean.index, frauds_by_C20_clean['isfraud'], width=.5)\n",
    "plt.show()"
   ]
  },
  {
   "cell_type": "markdown",
   "metadata": {},
   "source": [
    "## C21"
   ]
  },
  {
   "cell_type": "code",
   "execution_count": 86,
   "metadata": {},
   "outputs": [
    {
     "data": {
      "text/plain": [
       "52"
      ]
     },
     "execution_count": 86,
     "metadata": {},
     "output_type": "execute_result"
    }
   ],
   "source": [
    "len(train_data['C21'].value_counts())"
   ]
  },
  {
   "cell_type": "code",
   "execution_count": 156,
   "metadata": {},
   "outputs": [
    {
     "data": {
      "text/plain": [
       "(13, 221)"
      ]
     },
     "execution_count": 156,
     "metadata": {},
     "output_type": "execute_result"
    }
   ],
   "source": [
    "x = train_data['C21']\n",
    "x.min(), x.max()"
   ]
  },
  {
   "cell_type": "code",
   "execution_count": 77,
   "metadata": {},
   "outputs": [
    {
     "data": {
      "image/png": "[encoded data removed]",
      "text/plain": [
       "<Figure size 720x360 with 1 Axes>"
      ]
     },
     "metadata": {
      "needs_background": "light"
     },
     "output_type": "display_data"
    }
   ],
   "source": [
    "frauds_by_C21 = train_data[['C21', 'isfraud']].groupby(by='C21').mean()\n",
    "plt.figure(figsize=(10,5))\n",
    "plt.bar(frauds_by_C21.index, frauds_by_C21['isfraud'], width=.75)\n",
    "plt.show()"
   ]
  },
  {
   "cell_type": "markdown",
   "metadata": {},
   "source": [
    "### Combining `C18` with others"
   ]
  },
  {
   "cell_type": "code",
   "execution_count": 92,
   "metadata": {},
   "outputs": [
    {
     "data": {
      "text/plain": [
       "391"
      ]
     },
     "execution_count": 92,
     "metadata": {},
     "output_type": "execute_result"
    }
   ],
   "source": [
    "C18_C17 = pd.Series([str(a) + '-' + str(b) for a, b in zip(train_data['C18'], train_data['C17'])])\n",
    "len(C18_C17.value_counts())"
   ]
  },
  {
   "cell_type": "code",
   "execution_count": 93,
   "metadata": {},
   "outputs": [
    {
     "data": {
      "text/plain": [
       "112"
      ]
     },
     "execution_count": 93,
     "metadata": {},
     "output_type": "execute_result"
    }
   ],
   "source": [
    "C18_C19 = pd.Series([str(a) + '-' + str(b) for a, b in zip(train_data['C18'], train_data['C19'])])\n",
    "len(C18_C19.value_counts())"
   ]
  },
  {
   "cell_type": "code",
   "execution_count": 95,
   "metadata": {},
   "outputs": [
    {
     "data": {
      "text/plain": [
       "74"
      ]
     },
     "execution_count": 95,
     "metadata": {},
     "output_type": "execute_result"
    }
   ],
   "source": [
    "C18_C21 = pd.Series([str(a) + '-' + str(b) for a, b in zip(train_data['C18'], train_data['C21'])])\n",
    "len(C18_C21.value_counts())"
   ]
  },
  {
   "cell_type": "markdown",
   "metadata": {},
   "source": [
    "## Checking combinations of C19, C20 and C21"
   ]
  },
  {
   "cell_type": "code",
   "execution_count": 101,
   "metadata": {},
   "outputs": [
    {
     "data": {
      "text/plain": [
       "1918"
      ]
     },
     "execution_count": 101,
     "metadata": {},
     "output_type": "execute_result"
    }
   ],
   "source": [
    "C19_C20 = pd.Series([str(a) + '-' + str(b) for a, b in zip(train_data['C19'], train_data['C20'])])\n",
    "len(C19_C20.value_counts())"
   ]
  },
  {
   "cell_type": "code",
   "execution_count": 102,
   "metadata": {},
   "outputs": [
    {
     "data": {
      "text/plain": [
       "186"
      ]
     },
     "execution_count": 102,
     "metadata": {},
     "output_type": "execute_result"
    }
   ],
   "source": [
    "C19_C21 = pd.Series([str(a) + '-' + str(b) for a, b in zip(train_data['C19'], train_data['C21'])])\n",
    "len(C19_C21.value_counts())"
   ]
  },
  {
   "cell_type": "code",
   "execution_count": 103,
   "metadata": {},
   "outputs": [
    {
     "data": {
      "text/plain": [
       "2159"
      ]
     },
     "execution_count": 103,
     "metadata": {},
     "output_type": "execute_result"
    }
   ],
   "source": [
    "C21_C20 = pd.Series([str(a) + '-' + str(b) for a, b in zip(train_data['C21'], train_data['C20'])])\n",
    "len(C21_C20.value_counts())"
   ]
  },
  {
   "cell_type": "markdown",
   "metadata": {},
   "source": [
    "## Amount"
   ]
  },
  {
   "cell_type": "markdown",
   "metadata": {},
   "source": [
    "# Correlations"
   ]
  },
  {
   "cell_type": "code",
   "execution_count": 165,
   "metadata": {},
   "outputs": [
    {
     "data": {
      "text/html": [
       "<div>\n",
       "<style scoped>\n",
       "    .dataframe tbody tr th:only-of-type {\n",
       "        vertical-align: middle;\n",
       "    }\n",
       "\n",
       "    .dataframe tbody tr th {\n",
       "        vertical-align: top;\n",
       "    }\n",
       "\n",
       "    .dataframe thead th {\n",
       "        text-align: right;\n",
       "    }\n",
       "</style>\n",
       "<table border=\"1\" class=\"dataframe\">\n",
       "  <thead>\n",
       "    <tr style=\"text-align: right;\">\n",
       "      <th></th>\n",
       "      <th>C15</th>\n",
       "      <th>C16</th>\n",
       "      <th>C17</th>\n",
       "      <th>C18</th>\n",
       "      <th>C19</th>\n",
       "      <th>C20</th>\n",
       "      <th>C21</th>\n",
       "      <th>amount</th>\n",
       "      <th>isfraud</th>\n",
       "    </tr>\n",
       "  </thead>\n",
       "  <tbody>\n",
       "    <tr>\n",
       "      <th>C15</th>\n",
       "      <td>1.000000</td>\n",
       "      <td>-0.086409</td>\n",
       "      <td>-0.003177</td>\n",
       "      <td>0.019357</td>\n",
       "      <td>0.048154</td>\n",
       "      <td>0.009145</td>\n",
       "      <td>-0.011479</td>\n",
       "      <td>0.016566</td>\n",
       "      <td>-0.032106</td>\n",
       "    </tr>\n",
       "    <tr>\n",
       "      <th>C16</th>\n",
       "      <td>-0.086409</td>\n",
       "      <td>1.000000</td>\n",
       "      <td>0.064617</td>\n",
       "      <td>0.078688</td>\n",
       "      <td>-0.078528</td>\n",
       "      <td>-0.046388</td>\n",
       "      <td>-0.072418</td>\n",
       "      <td>0.082174</td>\n",
       "      <td>0.133812</td>\n",
       "    </tr>\n",
       "    <tr>\n",
       "      <th>C17</th>\n",
       "      <td>-0.003177</td>\n",
       "      <td>0.064617</td>\n",
       "      <td>1.000000</td>\n",
       "      <td>-0.263515</td>\n",
       "      <td>-0.183348</td>\n",
       "      <td>0.026113</td>\n",
       "      <td>0.434140</td>\n",
       "      <td>0.257441</td>\n",
       "      <td>-0.056598</td>\n",
       "    </tr>\n",
       "    <tr>\n",
       "      <th>C18</th>\n",
       "      <td>0.019357</td>\n",
       "      <td>0.078688</td>\n",
       "      <td>-0.263515</td>\n",
       "      <td>1.000000</td>\n",
       "      <td>0.082197</td>\n",
       "      <td>0.020896</td>\n",
       "      <td>-0.582077</td>\n",
       "      <td>-0.054920</td>\n",
       "      <td>0.023604</td>\n",
       "    </tr>\n",
       "    <tr>\n",
       "      <th>C19</th>\n",
       "      <td>0.048154</td>\n",
       "      <td>-0.078528</td>\n",
       "      <td>-0.183348</td>\n",
       "      <td>0.082197</td>\n",
       "      <td>1.000000</td>\n",
       "      <td>0.103951</td>\n",
       "      <td>-0.215435</td>\n",
       "      <td>0.056989</td>\n",
       "      <td>0.002963</td>\n",
       "    </tr>\n",
       "    <tr>\n",
       "      <th>C20</th>\n",
       "      <td>0.009145</td>\n",
       "      <td>-0.046388</td>\n",
       "      <td>0.026113</td>\n",
       "      <td>0.020896</td>\n",
       "      <td>0.103951</td>\n",
       "      <td>1.000000</td>\n",
       "      <td>-0.035945</td>\n",
       "      <td>0.073147</td>\n",
       "      <td>-0.056971</td>\n",
       "    </tr>\n",
       "    <tr>\n",
       "      <th>C21</th>\n",
       "      <td>-0.011479</td>\n",
       "      <td>-0.072418</td>\n",
       "      <td>0.434140</td>\n",
       "      <td>-0.582077</td>\n",
       "      <td>-0.215435</td>\n",
       "      <td>-0.035945</td>\n",
       "      <td>1.000000</td>\n",
       "      <td>0.110930</td>\n",
       "      <td>-0.065579</td>\n",
       "    </tr>\n",
       "    <tr>\n",
       "      <th>amount</th>\n",
       "      <td>0.016566</td>\n",
       "      <td>0.082174</td>\n",
       "      <td>0.257441</td>\n",
       "      <td>-0.054920</td>\n",
       "      <td>0.056989</td>\n",
       "      <td>0.073147</td>\n",
       "      <td>0.110930</td>\n",
       "      <td>1.000000</td>\n",
       "      <td>-0.098828</td>\n",
       "    </tr>\n",
       "    <tr>\n",
       "      <th>isfraud</th>\n",
       "      <td>-0.032106</td>\n",
       "      <td>0.133812</td>\n",
       "      <td>-0.056598</td>\n",
       "      <td>0.023604</td>\n",
       "      <td>0.002963</td>\n",
       "      <td>-0.056971</td>\n",
       "      <td>-0.065579</td>\n",
       "      <td>-0.098828</td>\n",
       "      <td>1.000000</td>\n",
       "    </tr>\n",
       "  </tbody>\n",
       "</table>\n",
       "</div>"
      ],
      "text/plain": [
       "              C15       C16       C17       C18       C19       C20       C21  \\\n",
       "C15      1.000000 -0.086409 -0.003177  0.019357  0.048154  0.009145 -0.011479   \n",
       "C16     -0.086409  1.000000  0.064617  0.078688 -0.078528 -0.046388 -0.072418   \n",
       "C17     -0.003177  0.064617  1.000000 -0.263515 -0.183348  0.026113  0.434140   \n",
       "C18      0.019357  0.078688 -0.263515  1.000000  0.082197  0.020896 -0.582077   \n",
       "C19      0.048154 -0.078528 -0.183348  0.082197  1.000000  0.103951 -0.215435   \n",
       "C20      0.009145 -0.046388  0.026113  0.020896  0.103951  1.000000 -0.035945   \n",
       "C21     -0.011479 -0.072418  0.434140 -0.582077 -0.215435 -0.035945  1.000000   \n",
       "amount   0.016566  0.082174  0.257441 -0.054920  0.056989  0.073147  0.110930   \n",
       "isfraud -0.032106  0.133812 -0.056598  0.023604  0.002963 -0.056971 -0.065579   \n",
       "\n",
       "           amount   isfraud  \n",
       "C15      0.016566 -0.032106  \n",
       "C16      0.082174  0.133812  \n",
       "C17      0.257441 -0.056598  \n",
       "C18     -0.054920  0.023604  \n",
       "C19      0.056989  0.002963  \n",
       "C20      0.073147 -0.056971  \n",
       "C21      0.110930 -0.065579  \n",
       "amount   1.000000 -0.098828  \n",
       "isfraud -0.098828  1.000000  "
      ]
     },
     "execution_count": 165,
     "metadata": {},
     "output_type": "execute_result"
    }
   ],
   "source": [
    "corr_matrix = train_data[['C15', 'C16', 'C17', 'C18', 'C19', 'C20', 'C21', 'amount', 'isfraud']].corr()\n",
    "corr_matrix"
   ]
  },
  {
   "cell_type": "markdown",
   "metadata": {},
   "source": [
    "# Observing frauds"
   ]
  },
  {
   "cell_type": "code",
   "execution_count": 18,
   "metadata": {},
   "outputs": [
    {
     "data": {
      "text/plain": [
       "4f2638e2    29\n",
       "be91513c    29\n",
       "ad5b1ded    29\n",
       "a4d28d74    29\n",
       "20419348    29\n",
       "a9e5206e    29\n",
       "7fce729a    29\n",
       "caa5deaa    29\n",
       "055acd14    29\n",
       "1202cb62    29\n",
       "79adbec1    29\n",
       "b3e76e2e    29\n",
       "fe6fe698    29\n",
       "eff814d1    29\n",
       "a2d145f0    29\n",
       "03f85ebf    29\n",
       "dd2ec838    29\n",
       "fd222dd5    29\n",
       "06239d2e    29\n",
       "ce320dcb    29\n",
       "cfe68cae    29\n",
       "633dc08e    29\n",
       "cb48f81d    29\n",
       "cdb60770    29\n",
       "09586b29    29\n",
       "5d2df384    29\n",
       "251c97ce    29\n",
       "92454a51    29\n",
       "b1e57fbd    29\n",
       "d3490bf4    29\n",
       "            ..\n",
       "6f7ba7ea     1\n",
       "62a60475     1\n",
       "3b34d54d     1\n",
       "899aecba     1\n",
       "3bd06402     1\n",
       "cb30953a     1\n",
       "b233ebf5     1\n",
       "30dfe019     1\n",
       "477066d5     1\n",
       "0150088a     1\n",
       "ede6af8f     1\n",
       "987f1763     1\n",
       "c71201e5     1\n",
       "166e4b03     1\n",
       "22f32cb7     1\n",
       "d2ead847     1\n",
       "4157c3b2     1\n",
       "38c71af5     1\n",
       "a6c29266     1\n",
       "a6c61e60     1\n",
       "05d62b17     1\n",
       "9c8dbea1     1\n",
       "3707bc8f     1\n",
       "48dee450     1\n",
       "7082ea3f     1\n",
       "af74d90f     1\n",
       "91829dd8     1\n",
       "56d29f30     1\n",
       "62274dfb     1\n",
       "355cddd7     1\n",
       "Name: user_id, Length: 2205396, dtype: int64"
      ]
     },
     "execution_count": 18,
     "metadata": {},
     "output_type": "execute_result"
    }
   ],
   "source": [
    "#a = train_data['user_id'].value_counts() \n",
    "a[a < 30]"
   ]
  },
  {
   "cell_type": "code",
   "execution_count": 19,
   "metadata": {},
   "outputs": [
    {
     "data": {
      "text/html": [
       "<div>\n",
       "<style scoped>\n",
       "    .dataframe tbody tr th:only-of-type {\n",
       "        vertical-align: middle;\n",
       "    }\n",
       "\n",
       "    .dataframe tbody tr th {\n",
       "        vertical-align: top;\n",
       "    }\n",
       "\n",
       "    .dataframe thead th {\n",
       "        text-align: right;\n",
       "    }\n",
       "</style>\n",
       "<table border=\"1\" class=\"dataframe\">\n",
       "  <thead>\n",
       "    <tr style=\"text-align: right;\">\n",
       "      <th></th>\n",
       "      <th>id</th>\n",
       "      <th>timestamp</th>\n",
       "      <th>product_id</th>\n",
       "      <th>product_department</th>\n",
       "      <th>product_category</th>\n",
       "      <th>card_id</th>\n",
       "      <th>user_id</th>\n",
       "      <th>C15</th>\n",
       "      <th>C16</th>\n",
       "      <th>C17</th>\n",
       "      <th>C18</th>\n",
       "      <th>C19</th>\n",
       "      <th>C20</th>\n",
       "      <th>C21</th>\n",
       "      <th>amount</th>\n",
       "      <th>isfraud</th>\n",
       "    </tr>\n",
       "  </thead>\n",
       "  <tbody>\n",
       "    <tr>\n",
       "      <th>2592636</th>\n",
       "      <td>2592636</td>\n",
       "      <td>1413894585084</td>\n",
       "      <td>8eb11125</td>\n",
       "      <td>39cffaa4</td>\n",
       "      <td>50e219e0</td>\n",
       "      <td>ecad2386</td>\n",
       "      <td>4f2638e2</td>\n",
       "      <td>320</td>\n",
       "      <td>50</td>\n",
       "      <td>2253</td>\n",
       "      <td>2</td>\n",
       "      <td>303</td>\n",
       "      <td>-1</td>\n",
       "      <td>52</td>\n",
       "      <td>149.06</td>\n",
       "      <td>0</td>\n",
       "    </tr>\n",
       "    <tr>\n",
       "      <th>2603166</th>\n",
       "      <td>2603166</td>\n",
       "      <td>1413899086392</td>\n",
       "      <td>e8cab48f</td>\n",
       "      <td>f17ebd97</td>\n",
       "      <td>50e219e0</td>\n",
       "      <td>ecad2386</td>\n",
       "      <td>4f2638e2</td>\n",
       "      <td>320</td>\n",
       "      <td>50</td>\n",
       "      <td>2253</td>\n",
       "      <td>2</td>\n",
       "      <td>303</td>\n",
       "      <td>-1</td>\n",
       "      <td>52</td>\n",
       "      <td>217.06</td>\n",
       "      <td>0</td>\n",
       "    </tr>\n",
       "    <tr>\n",
       "      <th>2666638</th>\n",
       "      <td>2666638</td>\n",
       "      <td>1413897322452</td>\n",
       "      <td>e8cab48f</td>\n",
       "      <td>f17ebd97</td>\n",
       "      <td>50e219e0</td>\n",
       "      <td>ecad2386</td>\n",
       "      <td>4f2638e2</td>\n",
       "      <td>320</td>\n",
       "      <td>50</td>\n",
       "      <td>2253</td>\n",
       "      <td>2</td>\n",
       "      <td>303</td>\n",
       "      <td>-1</td>\n",
       "      <td>52</td>\n",
       "      <td>217.06</td>\n",
       "      <td>0</td>\n",
       "    </tr>\n",
       "    <tr>\n",
       "      <th>6599112</th>\n",
       "      <td>6599112</td>\n",
       "      <td>1413975324564</td>\n",
       "      <td>e8cab48f</td>\n",
       "      <td>f17ebd97</td>\n",
       "      <td>50e219e0</td>\n",
       "      <td>ecad2386</td>\n",
       "      <td>4f2638e2</td>\n",
       "      <td>320</td>\n",
       "      <td>50</td>\n",
       "      <td>2476</td>\n",
       "      <td>2</td>\n",
       "      <td>167</td>\n",
       "      <td>-1</td>\n",
       "      <td>23</td>\n",
       "      <td>217.06</td>\n",
       "      <td>0</td>\n",
       "    </tr>\n",
       "    <tr>\n",
       "      <th>6646930</th>\n",
       "      <td>6646930</td>\n",
       "      <td>1413973524420</td>\n",
       "      <td>e8cab48f</td>\n",
       "      <td>f17ebd97</td>\n",
       "      <td>50e219e0</td>\n",
       "      <td>ecad2386</td>\n",
       "      <td>4f2638e2</td>\n",
       "      <td>320</td>\n",
       "      <td>50</td>\n",
       "      <td>2476</td>\n",
       "      <td>2</td>\n",
       "      <td>167</td>\n",
       "      <td>-1</td>\n",
       "      <td>23</td>\n",
       "      <td>217.06</td>\n",
       "      <td>0</td>\n",
       "    </tr>\n",
       "    <tr>\n",
       "      <th>26412721</th>\n",
       "      <td>26412721</td>\n",
       "      <td>1414435576305</td>\n",
       "      <td>19944fab</td>\n",
       "      <td>c6af341d</td>\n",
       "      <td>50e219e0</td>\n",
       "      <td>ecad2386</td>\n",
       "      <td>4f2638e2</td>\n",
       "      <td>320</td>\n",
       "      <td>50</td>\n",
       "      <td>2512</td>\n",
       "      <td>2</td>\n",
       "      <td>291</td>\n",
       "      <td>-1</td>\n",
       "      <td>52</td>\n",
       "      <td>209.97</td>\n",
       "      <td>0</td>\n",
       "    </tr>\n",
       "    <tr>\n",
       "      <th>29584925</th>\n",
       "      <td>29584925</td>\n",
       "      <td>1414498610271</td>\n",
       "      <td>c4e18dd6</td>\n",
       "      <td>c6af341d</td>\n",
       "      <td>50e219e0</td>\n",
       "      <td>ecad2386</td>\n",
       "      <td>4f2638e2</td>\n",
       "      <td>320</td>\n",
       "      <td>50</td>\n",
       "      <td>2512</td>\n",
       "      <td>2</td>\n",
       "      <td>291</td>\n",
       "      <td>-1</td>\n",
       "      <td>52</td>\n",
       "      <td>209.97</td>\n",
       "      <td>1</td>\n",
       "    </tr>\n",
       "    <tr>\n",
       "      <th>31210869</th>\n",
       "      <td>31210869</td>\n",
       "      <td>1414518736706</td>\n",
       "      <td>5888d1c7</td>\n",
       "      <td>f17ebd97</td>\n",
       "      <td>50e219e0</td>\n",
       "      <td>ecad2386</td>\n",
       "      <td>4f2638e2</td>\n",
       "      <td>320</td>\n",
       "      <td>50</td>\n",
       "      <td>2684</td>\n",
       "      <td>2</td>\n",
       "      <td>1327</td>\n",
       "      <td>-1</td>\n",
       "      <td>52</td>\n",
       "      <td>217.06</td>\n",
       "      <td>0</td>\n",
       "    </tr>\n",
       "    <tr>\n",
       "      <th>31251551</th>\n",
       "      <td>31251551</td>\n",
       "      <td>1414516865868</td>\n",
       "      <td>5888d1c7</td>\n",
       "      <td>f17ebd97</td>\n",
       "      <td>50e219e0</td>\n",
       "      <td>ecad2386</td>\n",
       "      <td>4f2638e2</td>\n",
       "      <td>320</td>\n",
       "      <td>50</td>\n",
       "      <td>2684</td>\n",
       "      <td>2</td>\n",
       "      <td>1327</td>\n",
       "      <td>-1</td>\n",
       "      <td>52</td>\n",
       "      <td>217.06</td>\n",
       "      <td>0</td>\n",
       "    </tr>\n",
       "    <tr>\n",
       "      <th>31306053</th>\n",
       "      <td>31306053</td>\n",
       "      <td>1414517602507</td>\n",
       "      <td>5888d1c7</td>\n",
       "      <td>f17ebd97</td>\n",
       "      <td>50e219e0</td>\n",
       "      <td>ecad2386</td>\n",
       "      <td>4f2638e2</td>\n",
       "      <td>320</td>\n",
       "      <td>50</td>\n",
       "      <td>2684</td>\n",
       "      <td>2</td>\n",
       "      <td>1327</td>\n",
       "      <td>-1</td>\n",
       "      <td>52</td>\n",
       "      <td>217.06</td>\n",
       "      <td>0</td>\n",
       "    </tr>\n",
       "    <tr>\n",
       "      <th>31330627</th>\n",
       "      <td>31330627</td>\n",
       "      <td>1414518490623</td>\n",
       "      <td>c4e18dd6</td>\n",
       "      <td>5b787406</td>\n",
       "      <td>50e219e0</td>\n",
       "      <td>ecad2386</td>\n",
       "      <td>4f2638e2</td>\n",
       "      <td>320</td>\n",
       "      <td>50</td>\n",
       "      <td>2684</td>\n",
       "      <td>2</td>\n",
       "      <td>1327</td>\n",
       "      <td>-1</td>\n",
       "      <td>52</td>\n",
       "      <td>205.11</td>\n",
       "      <td>0</td>\n",
       "    </tr>\n",
       "    <tr>\n",
       "      <th>31344355</th>\n",
       "      <td>31344355</td>\n",
       "      <td>1414517043692</td>\n",
       "      <td>5888d1c7</td>\n",
       "      <td>f17ebd97</td>\n",
       "      <td>50e219e0</td>\n",
       "      <td>ecad2386</td>\n",
       "      <td>4f2638e2</td>\n",
       "      <td>320</td>\n",
       "      <td>50</td>\n",
       "      <td>2684</td>\n",
       "      <td>2</td>\n",
       "      <td>1327</td>\n",
       "      <td>-1</td>\n",
       "      <td>52</td>\n",
       "      <td>217.06</td>\n",
       "      <td>0</td>\n",
       "    </tr>\n",
       "    <tr>\n",
       "      <th>31376023</th>\n",
       "      <td>31376023</td>\n",
       "      <td>1414519211801</td>\n",
       "      <td>d9e5838f</td>\n",
       "      <td>ad639ab8</td>\n",
       "      <td>50e219e0</td>\n",
       "      <td>ecad2386</td>\n",
       "      <td>4f2638e2</td>\n",
       "      <td>320</td>\n",
       "      <td>50</td>\n",
       "      <td>2684</td>\n",
       "      <td>2</td>\n",
       "      <td>1327</td>\n",
       "      <td>-1</td>\n",
       "      <td>52</td>\n",
       "      <td>150.66</td>\n",
       "      <td>0</td>\n",
       "    </tr>\n",
       "    <tr>\n",
       "      <th>31407295</th>\n",
       "      <td>31407295</td>\n",
       "      <td>1414521444412</td>\n",
       "      <td>f3ca2e42</td>\n",
       "      <td>5b787406</td>\n",
       "      <td>50e219e0</td>\n",
       "      <td>ecad2386</td>\n",
       "      <td>4f2638e2</td>\n",
       "      <td>320</td>\n",
       "      <td>50</td>\n",
       "      <td>2684</td>\n",
       "      <td>2</td>\n",
       "      <td>1327</td>\n",
       "      <td>-1</td>\n",
       "      <td>52</td>\n",
       "      <td>205.11</td>\n",
       "      <td>0</td>\n",
       "    </tr>\n",
       "    <tr>\n",
       "      <th>31443318</th>\n",
       "      <td>31443318</td>\n",
       "      <td>1414522658619</td>\n",
       "      <td>f3ca2e42</td>\n",
       "      <td>5b787406</td>\n",
       "      <td>50e219e0</td>\n",
       "      <td>ecad2386</td>\n",
       "      <td>4f2638e2</td>\n",
       "      <td>320</td>\n",
       "      <td>50</td>\n",
       "      <td>2684</td>\n",
       "      <td>2</td>\n",
       "      <td>1327</td>\n",
       "      <td>-1</td>\n",
       "      <td>52</td>\n",
       "      <td>205.11</td>\n",
       "      <td>0</td>\n",
       "    </tr>\n",
       "    <tr>\n",
       "      <th>31475533</th>\n",
       "      <td>31475533</td>\n",
       "      <td>1414520279515</td>\n",
       "      <td>f3ca2e42</td>\n",
       "      <td>5b787406</td>\n",
       "      <td>50e219e0</td>\n",
       "      <td>ecad2386</td>\n",
       "      <td>4f2638e2</td>\n",
       "      <td>320</td>\n",
       "      <td>50</td>\n",
       "      <td>2684</td>\n",
       "      <td>2</td>\n",
       "      <td>1327</td>\n",
       "      <td>-1</td>\n",
       "      <td>52</td>\n",
       "      <td>205.11</td>\n",
       "      <td>0</td>\n",
       "    </tr>\n",
       "    <tr>\n",
       "      <th>31522367</th>\n",
       "      <td>31522367</td>\n",
       "      <td>1414519368240</td>\n",
       "      <td>f3ca2e42</td>\n",
       "      <td>5b787406</td>\n",
       "      <td>50e219e0</td>\n",
       "      <td>ecad2386</td>\n",
       "      <td>4f2638e2</td>\n",
       "      <td>320</td>\n",
       "      <td>50</td>\n",
       "      <td>2684</td>\n",
       "      <td>2</td>\n",
       "      <td>1327</td>\n",
       "      <td>-1</td>\n",
       "      <td>52</td>\n",
       "      <td>205.11</td>\n",
       "      <td>0</td>\n",
       "    </tr>\n",
       "    <tr>\n",
       "      <th>31528076</th>\n",
       "      <td>31528076</td>\n",
       "      <td>1414520979622</td>\n",
       "      <td>f3ca2e42</td>\n",
       "      <td>5b787406</td>\n",
       "      <td>50e219e0</td>\n",
       "      <td>ecad2386</td>\n",
       "      <td>4f2638e2</td>\n",
       "      <td>320</td>\n",
       "      <td>50</td>\n",
       "      <td>2684</td>\n",
       "      <td>2</td>\n",
       "      <td>1327</td>\n",
       "      <td>-1</td>\n",
       "      <td>52</td>\n",
       "      <td>205.11</td>\n",
       "      <td>0</td>\n",
       "    </tr>\n",
       "    <tr>\n",
       "      <th>31535696</th>\n",
       "      <td>31535696</td>\n",
       "      <td>1414520593642</td>\n",
       "      <td>f3ca2e42</td>\n",
       "      <td>5b787406</td>\n",
       "      <td>50e219e0</td>\n",
       "      <td>ecad2386</td>\n",
       "      <td>4f2638e2</td>\n",
       "      <td>320</td>\n",
       "      <td>50</td>\n",
       "      <td>2684</td>\n",
       "      <td>2</td>\n",
       "      <td>1327</td>\n",
       "      <td>-1</td>\n",
       "      <td>52</td>\n",
       "      <td>205.11</td>\n",
       "      <td>0</td>\n",
       "    </tr>\n",
       "    <tr>\n",
       "      <th>31544951</th>\n",
       "      <td>31544951</td>\n",
       "      <td>1414520272091</td>\n",
       "      <td>f3ca2e42</td>\n",
       "      <td>5b787406</td>\n",
       "      <td>50e219e0</td>\n",
       "      <td>ecad2386</td>\n",
       "      <td>4f2638e2</td>\n",
       "      <td>320</td>\n",
       "      <td>50</td>\n",
       "      <td>2684</td>\n",
       "      <td>2</td>\n",
       "      <td>1327</td>\n",
       "      <td>-1</td>\n",
       "      <td>52</td>\n",
       "      <td>205.11</td>\n",
       "      <td>0</td>\n",
       "    </tr>\n",
       "    <tr>\n",
       "      <th>31549483</th>\n",
       "      <td>31549483</td>\n",
       "      <td>1414519266017</td>\n",
       "      <td>f3ca2e42</td>\n",
       "      <td>5b787406</td>\n",
       "      <td>50e219e0</td>\n",
       "      <td>ecad2386</td>\n",
       "      <td>4f2638e2</td>\n",
       "      <td>320</td>\n",
       "      <td>50</td>\n",
       "      <td>2684</td>\n",
       "      <td>2</td>\n",
       "      <td>1327</td>\n",
       "      <td>-1</td>\n",
       "      <td>52</td>\n",
       "      <td>205.11</td>\n",
       "      <td>0</td>\n",
       "    </tr>\n",
       "    <tr>\n",
       "      <th>31554229</th>\n",
       "      <td>31554229</td>\n",
       "      <td>1414521474458</td>\n",
       "      <td>f3ca2e42</td>\n",
       "      <td>5b787406</td>\n",
       "      <td>50e219e0</td>\n",
       "      <td>ecad2386</td>\n",
       "      <td>4f2638e2</td>\n",
       "      <td>320</td>\n",
       "      <td>50</td>\n",
       "      <td>2684</td>\n",
       "      <td>2</td>\n",
       "      <td>1327</td>\n",
       "      <td>-1</td>\n",
       "      <td>52</td>\n",
       "      <td>205.11</td>\n",
       "      <td>0</td>\n",
       "    </tr>\n",
       "    <tr>\n",
       "      <th>31565599</th>\n",
       "      <td>31565599</td>\n",
       "      <td>1414521768433</td>\n",
       "      <td>f3ca2e42</td>\n",
       "      <td>5b787406</td>\n",
       "      <td>50e219e0</td>\n",
       "      <td>ecad2386</td>\n",
       "      <td>4f2638e2</td>\n",
       "      <td>320</td>\n",
       "      <td>50</td>\n",
       "      <td>2684</td>\n",
       "      <td>2</td>\n",
       "      <td>1327</td>\n",
       "      <td>-1</td>\n",
       "      <td>52</td>\n",
       "      <td>205.11</td>\n",
       "      <td>0</td>\n",
       "    </tr>\n",
       "    <tr>\n",
       "      <th>31568985</th>\n",
       "      <td>31568985</td>\n",
       "      <td>1414521859079</td>\n",
       "      <td>f3ca2e42</td>\n",
       "      <td>5b787406</td>\n",
       "      <td>50e219e0</td>\n",
       "      <td>ecad2386</td>\n",
       "      <td>4f2638e2</td>\n",
       "      <td>320</td>\n",
       "      <td>50</td>\n",
       "      <td>2684</td>\n",
       "      <td>2</td>\n",
       "      <td>1327</td>\n",
       "      <td>-1</td>\n",
       "      <td>52</td>\n",
       "      <td>205.11</td>\n",
       "      <td>0</td>\n",
       "    </tr>\n",
       "    <tr>\n",
       "      <th>31569551</th>\n",
       "      <td>31569551</td>\n",
       "      <td>1414522772502</td>\n",
       "      <td>f3ca2e42</td>\n",
       "      <td>5b787406</td>\n",
       "      <td>50e219e0</td>\n",
       "      <td>ecad2386</td>\n",
       "      <td>4f2638e2</td>\n",
       "      <td>320</td>\n",
       "      <td>50</td>\n",
       "      <td>2684</td>\n",
       "      <td>2</td>\n",
       "      <td>1327</td>\n",
       "      <td>-1</td>\n",
       "      <td>52</td>\n",
       "      <td>205.11</td>\n",
       "      <td>0</td>\n",
       "    </tr>\n",
       "    <tr>\n",
       "      <th>31582014</th>\n",
       "      <td>31582014</td>\n",
       "      <td>1414520796748</td>\n",
       "      <td>f3ca2e42</td>\n",
       "      <td>5b787406</td>\n",
       "      <td>50e219e0</td>\n",
       "      <td>ecad2386</td>\n",
       "      <td>4f2638e2</td>\n",
       "      <td>320</td>\n",
       "      <td>50</td>\n",
       "      <td>2684</td>\n",
       "      <td>2</td>\n",
       "      <td>1327</td>\n",
       "      <td>-1</td>\n",
       "      <td>52</td>\n",
       "      <td>205.11</td>\n",
       "      <td>0</td>\n",
       "    </tr>\n",
       "    <tr>\n",
       "      <th>31582367</th>\n",
       "      <td>31582367</td>\n",
       "      <td>1414522413625</td>\n",
       "      <td>f3ca2e42</td>\n",
       "      <td>5b787406</td>\n",
       "      <td>50e219e0</td>\n",
       "      <td>ecad2386</td>\n",
       "      <td>4f2638e2</td>\n",
       "      <td>320</td>\n",
       "      <td>50</td>\n",
       "      <td>2684</td>\n",
       "      <td>2</td>\n",
       "      <td>1327</td>\n",
       "      <td>-1</td>\n",
       "      <td>52</td>\n",
       "      <td>205.11</td>\n",
       "      <td>0</td>\n",
       "    </tr>\n",
       "    <tr>\n",
       "      <th>31648994</th>\n",
       "      <td>31648994</td>\n",
       "      <td>1414523219166</td>\n",
       "      <td>8eb11125</td>\n",
       "      <td>39cffaa4</td>\n",
       "      <td>50e219e0</td>\n",
       "      <td>ecad2386</td>\n",
       "      <td>4f2638e2</td>\n",
       "      <td>320</td>\n",
       "      <td>50</td>\n",
       "      <td>2684</td>\n",
       "      <td>2</td>\n",
       "      <td>1327</td>\n",
       "      <td>-1</td>\n",
       "      <td>52</td>\n",
       "      <td>149.06</td>\n",
       "      <td>0</td>\n",
       "    </tr>\n",
       "    <tr>\n",
       "      <th>31649453</th>\n",
       "      <td>31649453</td>\n",
       "      <td>1414524678835</td>\n",
       "      <td>8eb11125</td>\n",
       "      <td>39cffaa4</td>\n",
       "      <td>50e219e0</td>\n",
       "      <td>ecad2386</td>\n",
       "      <td>4f2638e2</td>\n",
       "      <td>320</td>\n",
       "      <td>50</td>\n",
       "      <td>2684</td>\n",
       "      <td>2</td>\n",
       "      <td>1327</td>\n",
       "      <td>-1</td>\n",
       "      <td>52</td>\n",
       "      <td>149.06</td>\n",
       "      <td>0</td>\n",
       "    </tr>\n",
       "  </tbody>\n",
       "</table>\n",
       "</div>"
      ],
      "text/plain": [
       "                id      timestamp product_id product_department  \\\n",
       "2592636    2592636  1413894585084   8eb11125           39cffaa4   \n",
       "2603166    2603166  1413899086392   e8cab48f           f17ebd97   \n",
       "2666638    2666638  1413897322452   e8cab48f           f17ebd97   \n",
       "6599112    6599112  1413975324564   e8cab48f           f17ebd97   \n",
       "6646930    6646930  1413973524420   e8cab48f           f17ebd97   \n",
       "26412721  26412721  1414435576305   19944fab           c6af341d   \n",
       "29584925  29584925  1414498610271   c4e18dd6           c6af341d   \n",
       "31210869  31210869  1414518736706   5888d1c7           f17ebd97   \n",
       "31251551  31251551  1414516865868   5888d1c7           f17ebd97   \n",
       "31306053  31306053  1414517602507   5888d1c7           f17ebd97   \n",
       "31330627  31330627  1414518490623   c4e18dd6           5b787406   \n",
       "31344355  31344355  1414517043692   5888d1c7           f17ebd97   \n",
       "31376023  31376023  1414519211801   d9e5838f           ad639ab8   \n",
       "31407295  31407295  1414521444412   f3ca2e42           5b787406   \n",
       "31443318  31443318  1414522658619   f3ca2e42           5b787406   \n",
       "31475533  31475533  1414520279515   f3ca2e42           5b787406   \n",
       "31522367  31522367  1414519368240   f3ca2e42           5b787406   \n",
       "31528076  31528076  1414520979622   f3ca2e42           5b787406   \n",
       "31535696  31535696  1414520593642   f3ca2e42           5b787406   \n",
       "31544951  31544951  1414520272091   f3ca2e42           5b787406   \n",
       "31549483  31549483  1414519266017   f3ca2e42           5b787406   \n",
       "31554229  31554229  1414521474458   f3ca2e42           5b787406   \n",
       "31565599  31565599  1414521768433   f3ca2e42           5b787406   \n",
       "31568985  31568985  1414521859079   f3ca2e42           5b787406   \n",
       "31569551  31569551  1414522772502   f3ca2e42           5b787406   \n",
       "31582014  31582014  1414520796748   f3ca2e42           5b787406   \n",
       "31582367  31582367  1414522413625   f3ca2e42           5b787406   \n",
       "31648994  31648994  1414523219166   8eb11125           39cffaa4   \n",
       "31649453  31649453  1414524678835   8eb11125           39cffaa4   \n",
       "\n",
       "         product_category   card_id   user_id  C15  C16   C17  C18   C19  C20  \\\n",
       "2592636          50e219e0  ecad2386  4f2638e2  320   50  2253    2   303   -1   \n",
       "2603166          50e219e0  ecad2386  4f2638e2  320   50  2253    2   303   -1   \n",
       "2666638          50e219e0  ecad2386  4f2638e2  320   50  2253    2   303   -1   \n",
       "6599112          50e219e0  ecad2386  4f2638e2  320   50  2476    2   167   -1   \n",
       "6646930          50e219e0  ecad2386  4f2638e2  320   50  2476    2   167   -1   \n",
       "26412721         50e219e0  ecad2386  4f2638e2  320   50  2512    2   291   -1   \n",
       "29584925         50e219e0  ecad2386  4f2638e2  320   50  2512    2   291   -1   \n",
       "31210869         50e219e0  ecad2386  4f2638e2  320   50  2684    2  1327   -1   \n",
       "31251551         50e219e0  ecad2386  4f2638e2  320   50  2684    2  1327   -1   \n",
       "31306053         50e219e0  ecad2386  4f2638e2  320   50  2684    2  1327   -1   \n",
       "31330627         50e219e0  ecad2386  4f2638e2  320   50  2684    2  1327   -1   \n",
       "31344355         50e219e0  ecad2386  4f2638e2  320   50  2684    2  1327   -1   \n",
       "31376023         50e219e0  ecad2386  4f2638e2  320   50  2684    2  1327   -1   \n",
       "31407295         50e219e0  ecad2386  4f2638e2  320   50  2684    2  1327   -1   \n",
       "31443318         50e219e0  ecad2386  4f2638e2  320   50  2684    2  1327   -1   \n",
       "31475533         50e219e0  ecad2386  4f2638e2  320   50  2684    2  1327   -1   \n",
       "31522367         50e219e0  ecad2386  4f2638e2  320   50  2684    2  1327   -1   \n",
       "31528076         50e219e0  ecad2386  4f2638e2  320   50  2684    2  1327   -1   \n",
       "31535696         50e219e0  ecad2386  4f2638e2  320   50  2684    2  1327   -1   \n",
       "31544951         50e219e0  ecad2386  4f2638e2  320   50  2684    2  1327   -1   \n",
       "31549483         50e219e0  ecad2386  4f2638e2  320   50  2684    2  1327   -1   \n",
       "31554229         50e219e0  ecad2386  4f2638e2  320   50  2684    2  1327   -1   \n",
       "31565599         50e219e0  ecad2386  4f2638e2  320   50  2684    2  1327   -1   \n",
       "31568985         50e219e0  ecad2386  4f2638e2  320   50  2684    2  1327   -1   \n",
       "31569551         50e219e0  ecad2386  4f2638e2  320   50  2684    2  1327   -1   \n",
       "31582014         50e219e0  ecad2386  4f2638e2  320   50  2684    2  1327   -1   \n",
       "31582367         50e219e0  ecad2386  4f2638e2  320   50  2684    2  1327   -1   \n",
       "31648994         50e219e0  ecad2386  4f2638e2  320   50  2684    2  1327   -1   \n",
       "31649453         50e219e0  ecad2386  4f2638e2  320   50  2684    2  1327   -1   \n",
       "\n",
       "          C21  amount  isfraud  \n",
       "2592636    52  149.06        0  \n",
       "2603166    52  217.06        0  \n",
       "2666638    52  217.06        0  \n",
       "6599112    23  217.06        0  \n",
       "6646930    23  217.06        0  \n",
       "26412721   52  209.97        0  \n",
       "29584925   52  209.97        1  \n",
       "31210869   52  217.06        0  \n",
       "31251551   52  217.06        0  \n",
       "31306053   52  217.06        0  \n",
       "31330627   52  205.11        0  \n",
       "31344355   52  217.06        0  \n",
       "31376023   52  150.66        0  \n",
       "31407295   52  205.11        0  \n",
       "31443318   52  205.11        0  \n",
       "31475533   52  205.11        0  \n",
       "31522367   52  205.11        0  \n",
       "31528076   52  205.11        0  \n",
       "31535696   52  205.11        0  \n",
       "31544951   52  205.11        0  \n",
       "31549483   52  205.11        0  \n",
       "31554229   52  205.11        0  \n",
       "31565599   52  205.11        0  \n",
       "31568985   52  205.11        0  \n",
       "31569551   52  205.11        0  \n",
       "31582014   52  205.11        0  \n",
       "31582367   52  205.11        0  \n",
       "31648994   52  149.06        0  \n",
       "31649453   52  149.06        0  "
      ]
     },
     "execution_count": 19,
     "metadata": {},
     "output_type": "execute_result"
    }
   ],
   "source": [
    "train_data[train_data['user_id'] == '4f2638e2']"
   ]
  },
  {
   "cell_type": "code",
   "execution_count": null,
   "metadata": {},
   "outputs": [],
   "source": []
  }
 ],
 "metadata": {
  "kernelspec": {
   "display_name": "catch_the_fraudster3",
   "language": "python",
   "name": "catch_the_fraudster3"
  },
  "language_info": {
   "codemirror_mode": {
    "name": "ipython",
    "version": 3
   },
   "file_extension": ".py",
   "mimetype": "text/x-python",
   "name": "python",
   "nbconvert_exporter": "python",
   "pygments_lexer": "ipython3",
   "version": "3.7.2"
  }
 },
 "nbformat": 4,
 "nbformat_minor": 2
}
