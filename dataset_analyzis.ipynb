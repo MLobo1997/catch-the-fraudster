{
 "cells": [
  {
   "cell_type": "code",
   "execution_count": 18,
   "metadata": {},
   "outputs": [
    {
     "name": "stdout",
     "output_type": "stream",
     "text": [
      "The autoreload extension is already loaded. To reload it, use:\n",
      "  %reload_ext autoreload\n"
     ]
    }
   ],
   "source": [
    "import numpy as np\n",
    "import pandas as pd\n",
    "import matplotlib.pyplot as plt\n",
    "%load_ext autoreload"
   ]
  },
  {
   "cell_type": "markdown",
   "metadata": {},
   "source": [
    "# Load Data"
   ]
  },
  {
   "cell_type": "code",
   "execution_count": 19,
   "metadata": {},
   "outputs": [],
   "source": [
    "test_data = pd.read_csv('data/test_v2.csv')\n",
    "train_data = pd.read_csv('data/train_v2.csv')"
   ]
  },
  {
   "cell_type": "markdown",
   "metadata": {},
   "source": [
    "# Data Pipeline"
   ]
  },
  {
   "cell_type": "code",
   "execution_count": 23,
   "metadata": {},
   "outputs": [],
   "source": [
    "%autoreload\n",
    "from sklearn.pipeline import Pipeline, FeatureUnion\n",
    "from sklearn.preprocessing import OneHotEncoder\n",
    "from sklearn.compose import ColumnTransformer\n",
    "from include.DatetimeFromTimestamp import DatetimeFromTimestamp\n",
    "from include.DataFrameDropper import DataFrameDropper\n",
    "from include.DataFrameSelector import DataFrameSelector\n",
    "from include.FilterNMostCommon import FilterNMostCommon\n",
    "\n",
    "\n",
    "pipeline_normal = Pipeline([\n",
    "    ('datetime_creator', DatetimeFromTimestamp()),\n",
    "])\n",
    "\n",
    "pipeline_1hot = Pipeline([\n",
    "    ('dataframe_selector', DataFrameSelector(['product_category'])),\n",
    "    ('filter_n_most_common', FilterNMostCommon(N=10, minRelFreq=0.01, attribute_name='product_category')),\n",
    "    ('1hot_encoder', OneHotEncoder(sparse = False))\n",
    "])\n",
    "\n",
    "pipeline_analysis = FeatureUnion(transformer_list=[\n",
    "    ('pipeline_normal', pipeline_normal),\n",
    "    ('pipeline_1hot', pipeline_1hot),\n",
    "])"
   ]
  },
  {
   "cell_type": "code",
   "execution_count": 24,
   "metadata": {},
   "outputs": [],
   "source": [
    "train_data_treated = pipeline_analysis.fit_transform(train_data)\n",
    "categories = pipeline_1hot.named_steps['1hot_encoder'].categories_\n",
    "cols = list(train_data) + ['datetime'] + categories[0].tolist()"
   ]
  },
  {
   "cell_type": "code",
   "execution_count": 52,
   "metadata": {},
   "outputs": [],
   "source": [
    "test_data_treated = pipeline_analysis.transform(test_data)"
   ]
  },
  {
   "cell_type": "markdown",
   "metadata": {},
   "source": [
    "### Convert to DataFrame\n",
    "Not necessary, we can always use the index from cols"
   ]
  },
  {
   "cell_type": "raw",
   "metadata": {},
   "source": [
    "cols.index('C20')"
   ]
  },
  {
   "cell_type": "code",
   "execution_count": 45,
   "metadata": {},
   "outputs": [
    {
     "data": {
      "text/html": [
       "<div>\n",
       "<style scoped>\n",
       "    .dataframe tbody tr th:only-of-type {\n",
       "        vertical-align: middle;\n",
       "    }\n",
       "\n",
       "    .dataframe tbody tr th {\n",
       "        vertical-align: top;\n",
       "    }\n",
       "\n",
       "    .dataframe thead th {\n",
       "        text-align: right;\n",
       "    }\n",
       "</style>\n",
       "<table border=\"1\" class=\"dataframe\">\n",
       "  <thead>\n",
       "    <tr style=\"text-align: right;\">\n",
       "      <th></th>\n",
       "      <th>id</th>\n",
       "      <th>timestamp</th>\n",
       "      <th>product_id</th>\n",
       "      <th>product_department</th>\n",
       "      <th>product_category</th>\n",
       "      <th>card_id</th>\n",
       "      <th>user_id</th>\n",
       "      <th>C15</th>\n",
       "      <th>C16</th>\n",
       "      <th>C17</th>\n",
       "      <th>...</th>\n",
       "      <th>C20</th>\n",
       "      <th>C21</th>\n",
       "      <th>amount</th>\n",
       "      <th>isfraud</th>\n",
       "      <th>datetime</th>\n",
       "      <th>28905ebd</th>\n",
       "      <th>3e814130</th>\n",
       "      <th>50e219e0</th>\n",
       "      <th>Other</th>\n",
       "      <th>f028772b</th>\n",
       "    </tr>\n",
       "  </thead>\n",
       "  <tbody>\n",
       "    <tr>\n",
       "      <th>0</th>\n",
       "      <td>0</td>\n",
       "      <td>1413851531856</td>\n",
       "      <td>f3845767</td>\n",
       "      <td>1fbe01fe</td>\n",
       "      <td>28905ebd</td>\n",
       "      <td>ecad2386</td>\n",
       "      <td>a99f214a</td>\n",
       "      <td>320</td>\n",
       "      <td>50</td>\n",
       "      <td>1722</td>\n",
       "      <td>...</td>\n",
       "      <td>-1</td>\n",
       "      <td>79</td>\n",
       "      <td>184.09</td>\n",
       "      <td>0</td>\n",
       "      <td>2014-10-21 00:32:11.856000</td>\n",
       "      <td>1</td>\n",
       "      <td>0</td>\n",
       "      <td>0</td>\n",
       "      <td>0</td>\n",
       "      <td>0</td>\n",
       "    </tr>\n",
       "    <tr>\n",
       "      <th>1</th>\n",
       "      <td>1</td>\n",
       "      <td>1413851817483</td>\n",
       "      <td>f3845767</td>\n",
       "      <td>1fbe01fe</td>\n",
       "      <td>28905ebd</td>\n",
       "      <td>ecad2386</td>\n",
       "      <td>a99f214a</td>\n",
       "      <td>320</td>\n",
       "      <td>50</td>\n",
       "      <td>1722</td>\n",
       "      <td>...</td>\n",
       "      <td>100084</td>\n",
       "      <td>79</td>\n",
       "      <td>184.09</td>\n",
       "      <td>0</td>\n",
       "      <td>2014-10-21 00:36:57.483000</td>\n",
       "      <td>1</td>\n",
       "      <td>0</td>\n",
       "      <td>0</td>\n",
       "      <td>0</td>\n",
       "      <td>0</td>\n",
       "    </tr>\n",
       "    <tr>\n",
       "      <th>2</th>\n",
       "      <td>2</td>\n",
       "      <td>1413852597526</td>\n",
       "      <td>f3845767</td>\n",
       "      <td>1fbe01fe</td>\n",
       "      <td>28905ebd</td>\n",
       "      <td>ecad2386</td>\n",
       "      <td>a99f214a</td>\n",
       "      <td>320</td>\n",
       "      <td>50</td>\n",
       "      <td>1722</td>\n",
       "      <td>...</td>\n",
       "      <td>100084</td>\n",
       "      <td>79</td>\n",
       "      <td>184.09</td>\n",
       "      <td>0</td>\n",
       "      <td>2014-10-21 00:49:57.526000</td>\n",
       "      <td>1</td>\n",
       "      <td>0</td>\n",
       "      <td>0</td>\n",
       "      <td>0</td>\n",
       "      <td>0</td>\n",
       "    </tr>\n",
       "    <tr>\n",
       "      <th>3</th>\n",
       "      <td>3</td>\n",
       "      <td>1413851283020</td>\n",
       "      <td>f3845767</td>\n",
       "      <td>1fbe01fe</td>\n",
       "      <td>28905ebd</td>\n",
       "      <td>ecad2386</td>\n",
       "      <td>a99f214a</td>\n",
       "      <td>320</td>\n",
       "      <td>50</td>\n",
       "      <td>1722</td>\n",
       "      <td>...</td>\n",
       "      <td>100084</td>\n",
       "      <td>79</td>\n",
       "      <td>184.09</td>\n",
       "      <td>0</td>\n",
       "      <td>2014-10-21 00:28:03.020000</td>\n",
       "      <td>1</td>\n",
       "      <td>0</td>\n",
       "      <td>0</td>\n",
       "      <td>0</td>\n",
       "      <td>0</td>\n",
       "    </tr>\n",
       "    <tr>\n",
       "      <th>4</th>\n",
       "      <td>4</td>\n",
       "      <td>1413849935779</td>\n",
       "      <td>9166c161</td>\n",
       "      <td>fe8cc448</td>\n",
       "      <td>0569f928</td>\n",
       "      <td>ecad2386</td>\n",
       "      <td>a99f214a</td>\n",
       "      <td>320</td>\n",
       "      <td>50</td>\n",
       "      <td>2161</td>\n",
       "      <td>...</td>\n",
       "      <td>-1</td>\n",
       "      <td>157</td>\n",
       "      <td>196.98</td>\n",
       "      <td>0</td>\n",
       "      <td>2014-10-21 00:05:35.779000</td>\n",
       "      <td>0</td>\n",
       "      <td>0</td>\n",
       "      <td>0</td>\n",
       "      <td>1</td>\n",
       "      <td>0</td>\n",
       "    </tr>\n",
       "  </tbody>\n",
       "</table>\n",
       "<p>5 rows × 22 columns</p>\n",
       "</div>"
      ],
      "text/plain": [
       "  id      timestamp product_id product_department product_category   card_id  \\\n",
       "0  0  1413851531856   f3845767           1fbe01fe         28905ebd  ecad2386   \n",
       "1  1  1413851817483   f3845767           1fbe01fe         28905ebd  ecad2386   \n",
       "2  2  1413852597526   f3845767           1fbe01fe         28905ebd  ecad2386   \n",
       "3  3  1413851283020   f3845767           1fbe01fe         28905ebd  ecad2386   \n",
       "4  4  1413849935779   9166c161           fe8cc448         0569f928  ecad2386   \n",
       "\n",
       "    user_id  C15 C16   C17  ...     C20  C21  amount isfraud  \\\n",
       "0  a99f214a  320  50  1722  ...      -1   79  184.09       0   \n",
       "1  a99f214a  320  50  1722  ...  100084   79  184.09       0   \n",
       "2  a99f214a  320  50  1722  ...  100084   79  184.09       0   \n",
       "3  a99f214a  320  50  1722  ...  100084   79  184.09       0   \n",
       "4  a99f214a  320  50  2161  ...      -1  157  196.98       0   \n",
       "\n",
       "                     datetime 28905ebd 3e814130 50e219e0 Other f028772b  \n",
       "0  2014-10-21 00:32:11.856000        1        0        0     0        0  \n",
       "1  2014-10-21 00:36:57.483000        1        0        0     0        0  \n",
       "2  2014-10-21 00:49:57.526000        1        0        0     0        0  \n",
       "3  2014-10-21 00:28:03.020000        1        0        0     0        0  \n",
       "4  2014-10-21 00:05:35.779000        0        0        0     1        0  \n",
       "\n",
       "[5 rows x 22 columns]"
      ]
     },
     "execution_count": 45,
     "metadata": {},
     "output_type": "execute_result"
    }
   ],
   "source": [
    "train_data_treated = pd.DataFrame(train_data_treated, columns = cols)\n",
    "train_data_treated.head()"
   ]
  },
  {
   "cell_type": "code",
   "execution_count": null,
   "metadata": {},
   "outputs": [],
   "source": [
    "test_data_treated = pd.DataFrame(test_data_treated, columns = cols[:-1])\n",
    "test_data_treated.head()"
   ]
  },
  {
   "cell_type": "markdown",
   "metadata": {},
   "source": [
    "# Overall analysis\n",
    "* There are no null values in neither of the dataset, however, the are clearly values which are ***imputed to -1*** in the `C20` attribute as stated in Kaggle. These were probably nulls.\n",
    "* 17% of the entries in the data are fraudulent."
   ]
  },
  {
   "cell_type": "code",
   "execution_count": 56,
   "metadata": {},
   "outputs": [
    {
     "name": "stdout",
     "output_type": "stream",
     "text": [
      "<class 'pandas.core.frame.DataFrame'>\n",
      "RangeIndex: 32369524 entries, 0 to 32369523\n",
      "Data columns (total 21 columns):\n",
      "id                    32369524 non-null object\n",
      "timestamp             32369524 non-null object\n",
      "product_id            32369524 non-null object\n",
      "product_department    32369524 non-null object\n",
      "product_category      32369524 non-null object\n",
      "card_id               32369524 non-null object\n",
      "user_id               32369524 non-null object\n",
      "C15                   32369524 non-null object\n",
      "C16                   32369524 non-null object\n",
      "C17                   32369524 non-null object\n",
      "C18                   32369524 non-null object\n",
      "C19                   32369524 non-null object\n",
      "C20                   32369524 non-null object\n",
      "C21                   32369524 non-null object\n",
      "amount                32369524 non-null object\n",
      "isfraud               32369524 non-null object\n",
      "datetime              32369524 non-null object\n",
      "28905ebd              32369524 non-null object\n",
      "3e814130              32369524 non-null object\n",
      "50e219e0              32369524 non-null object\n",
      "Other                 32369524 non-null object\n",
      "dtypes: object(21)\n",
      "memory usage: 5.1+ GB\n"
     ]
    }
   ],
   "source": [
    "test_data_treated.info(null_counts = True)"
   ]
  },
  {
   "cell_type": "code",
   "execution_count": 54,
   "metadata": {},
   "outputs": [
    {
     "name": "stdout",
     "output_type": "stream",
     "text": [
      "<class 'pandas.core.frame.DataFrame'>\n",
      "RangeIndex: 32369524 entries, 0 to 32369523\n",
      "Data columns (total 22 columns):\n",
      "id                    32369524 non-null object\n",
      "timestamp             32369524 non-null object\n",
      "product_id            32369524 non-null object\n",
      "product_department    32369524 non-null object\n",
      "product_category      32369524 non-null object\n",
      "card_id               32369524 non-null object\n",
      "user_id               32369524 non-null object\n",
      "C15                   32369524 non-null object\n",
      "C16                   32369524 non-null object\n",
      "C17                   32369524 non-null object\n",
      "C18                   32369524 non-null object\n",
      "C19                   32369524 non-null object\n",
      "C20                   32369524 non-null object\n",
      "C21                   32369524 non-null object\n",
      "amount                32369524 non-null object\n",
      "isfraud               32369524 non-null object\n",
      "datetime              32369524 non-null object\n",
      "28905ebd              32369524 non-null object\n",
      "3e814130              32369524 non-null object\n",
      "50e219e0              32369524 non-null object\n",
      "Other                 32369524 non-null object\n",
      "f028772b              32369524 non-null object\n",
      "dtypes: object(22)\n",
      "memory usage: 5.3+ GB\n"
     ]
    }
   ],
   "source": [
    "train_data_treated.info(null_counts = True)"
   ]
  },
  {
   "cell_type": "markdown",
   "metadata": {},
   "source": [
    "### Value counts"
   ]
  },
  {
   "cell_type": "code",
   "execution_count": 32,
   "metadata": {},
   "outputs": [
    {
     "name": "stdout",
     "output_type": "stream",
     "text": [
      "Train: \n",
      "0    26819827\n",
      "1     5549697\n",
      "Name: isfraud, dtype: int64\n",
      "0    0.828552\n",
      "1    0.171448\n",
      "Name: isfraud, dtype: float64\n"
     ]
    }
   ],
   "source": [
    "print(\"Train: \")\n",
    "fraud_counts = train_data['isfraud'].value_counts()\n",
    "print(fraud_counts)\n",
    "print(fraud_counts / train_data.shape[0])"
   ]
  },
  {
   "cell_type": "markdown",
   "metadata": {},
   "source": [
    "### Histograms"
   ]
  },
  {
   "cell_type": "code",
   "execution_count": 66,
   "metadata": {},
   "outputs": [],
   "source": [
    "train_hist = train_data_treated[['C15', 'C16', 'C17', 'C18', 'C19', 'C20', 'C21', 'amount']]"
   ]
  },
  {
   "cell_type": "code",
   "execution_count": 67,
   "metadata": {},
   "outputs": [
    {
     "data": {
      "text/plain": [
       "[]"
      ]
     },
     "execution_count": 67,
     "metadata": {},
     "output_type": "execute_result"
    },
    {
     "data": {
      "image/png": "[encoded data removed]",
      "text/plain": [
       "<Figure size 1440x1440 with 9 Axes>"
      ]
     },
     "metadata": {
      "needs_background": "light"
     },
     "output_type": "display_data"
    }
   ],
   "source": [
    "train_hist.hist(bins = 50, figsize=(20,20))\n",
    "plt.plot()"
   ]
  },
  {
   "cell_type": "code",
   "execution_count": 63,
   "metadata": {},
   "outputs": [
    {
     "data": {
      "text/plain": [
       "-1         15059166\n",
       " 100084     2033777\n",
       " 100111     1448778\n",
       " 100148     1374808\n",
       " 100077     1306586\n",
       "Name: C20, dtype: int64"
      ]
     },
     "execution_count": 63,
     "metadata": {},
     "output_type": "execute_result"
    }
   ],
   "source": [
    "train_data['C20'].value_counts()[:5]"
   ]
  },
  {
   "cell_type": "markdown",
   "metadata": {},
   "source": [
    "# One by one analyzis\n",
    "### timestamp/datetime\n",
    "* There clearly are hours of the day with more frauds, therefore the attribute must be used"
   ]
  },
  {
   "cell_type": "code",
   "execution_count": 91,
   "metadata": {},
   "outputs": [
    {
     "data": {
      "text/plain": [
       "0      658895\n",
       "1      774563\n",
       "2      983039\n",
       "3     1049410\n",
       "4     1404619\n",
       "5     1605674\n",
       "6     1427460\n",
       "7     1472916\n",
       "8     1729277\n",
       "9     1894252\n",
       "10    1709843\n",
       "11    1670682\n",
       "12    1775172\n",
       "13    1944962\n",
       "14    1720095\n",
       "15    1646324\n",
       "16    1661153\n",
       "17    1693217\n",
       "18    1466573\n",
       "19    1058561\n",
       "20     892866\n",
       "21     784973\n",
       "22     716090\n",
       "23     628908\n",
       "Name: hour_of_day, dtype: int64"
      ]
     },
     "execution_count": 91,
     "metadata": {},
     "output_type": "execute_result"
    }
   ],
   "source": [
    "datetime = train_data_treated['datetime']\n",
    "train_data_treated['hour_of_day'] = [dt.time().hour for dt in datetime]\n",
    "train_data_treated['hour_of_day'].value_counts(sort=False)"
   ]
  },
  {
   "cell_type": "code",
   "execution_count": 103,
   "metadata": {},
   "outputs": [
    {
     "ename": "DataError",
     "evalue": "No numeric types to aggregate",
     "output_type": "error",
     "traceback": [
      "\u001b[0;31m---------------------------------------------------------------------------\u001b[0m",
      "\u001b[0;31mDataError\u001b[0m                                 Traceback (most recent call last)",
      "\u001b[0;32m<ipython-input-103-c468b05f10dd>\u001b[0m in \u001b[0;36m<module>\u001b[0;34m\u001b[0m\n\u001b[0;32m----> 1\u001b[0;31m \u001b[0mfrauds_by_hour_of_day\u001b[0m \u001b[0;34m=\u001b[0m \u001b[0mtrain_data_treated\u001b[0m\u001b[0;34m[\u001b[0m\u001b[0;34m[\u001b[0m\u001b[0;34m'hour_of_day'\u001b[0m\u001b[0;34m,\u001b[0m \u001b[0;34m'isfraud'\u001b[0m\u001b[0;34m]\u001b[0m\u001b[0;34m]\u001b[0m\u001b[0;34m.\u001b[0m\u001b[0mgroupby\u001b[0m\u001b[0;34m(\u001b[0m\u001b[0mby\u001b[0m\u001b[0;34m=\u001b[0m\u001b[0;34m'hour_of_day'\u001b[0m\u001b[0;34m)\u001b[0m\u001b[0;34m.\u001b[0m\u001b[0mmean\u001b[0m\u001b[0;34m(\u001b[0m\u001b[0;34m)\u001b[0m\u001b[0;34m\u001b[0m\u001b[0;34m\u001b[0m\u001b[0m\n\u001b[0m\u001b[1;32m      2\u001b[0m \u001b[0mfrauds_by_hour_of_day\u001b[0m\u001b[0;34m.\u001b[0m\u001b[0mindex\u001b[0m\u001b[0;34m\u001b[0m\u001b[0;34m\u001b[0m\u001b[0m\n\u001b[1;32m      3\u001b[0m \u001b[0mplt\u001b[0m\u001b[0;34m.\u001b[0m\u001b[0mbar\u001b[0m\u001b[0;34m(\u001b[0m\u001b[0mfrauds_by_hour_of_day\u001b[0m\u001b[0;34m.\u001b[0m\u001b[0mindex\u001b[0m\u001b[0;34m,\u001b[0m \u001b[0mfrauds_by_hour_of_day\u001b[0m\u001b[0;34m[\u001b[0m\u001b[0;34m'isfraud'\u001b[0m\u001b[0;34m]\u001b[0m\u001b[0;34m)\u001b[0m\u001b[0;34m\u001b[0m\u001b[0;34m\u001b[0m\u001b[0m\n\u001b[1;32m      4\u001b[0m \u001b[0mplt\u001b[0m\u001b[0;34m.\u001b[0m\u001b[0mshow\u001b[0m\u001b[0;34m(\u001b[0m\u001b[0;34m)\u001b[0m\u001b[0;34m\u001b[0m\u001b[0;34m\u001b[0m\u001b[0m\n",
      "\u001b[0;32m~/Development/catch_the_fraudster_challenge/lib/python3.7/site-packages/pandas/core/groupby/groupby.py\u001b[0m in \u001b[0;36mmean\u001b[0;34m(self, *args, **kwargs)\u001b[0m\n\u001b[1;32m   1130\u001b[0m         \u001b[0mnv\u001b[0m\u001b[0;34m.\u001b[0m\u001b[0mvalidate_groupby_func\u001b[0m\u001b[0;34m(\u001b[0m\u001b[0;34m'mean'\u001b[0m\u001b[0;34m,\u001b[0m \u001b[0margs\u001b[0m\u001b[0;34m,\u001b[0m \u001b[0mkwargs\u001b[0m\u001b[0;34m,\u001b[0m \u001b[0;34m[\u001b[0m\u001b[0;34m'numeric_only'\u001b[0m\u001b[0;34m]\u001b[0m\u001b[0;34m)\u001b[0m\u001b[0;34m\u001b[0m\u001b[0;34m\u001b[0m\u001b[0m\n\u001b[1;32m   1131\u001b[0m         \u001b[0;32mtry\u001b[0m\u001b[0;34m:\u001b[0m\u001b[0;34m\u001b[0m\u001b[0;34m\u001b[0m\u001b[0m\n\u001b[0;32m-> 1132\u001b[0;31m             \u001b[0;32mreturn\u001b[0m \u001b[0mself\u001b[0m\u001b[0;34m.\u001b[0m\u001b[0m_cython_agg_general\u001b[0m\u001b[0;34m(\u001b[0m\u001b[0;34m'mean'\u001b[0m\u001b[0;34m,\u001b[0m \u001b[0;34m**\u001b[0m\u001b[0mkwargs\u001b[0m\u001b[0;34m)\u001b[0m\u001b[0;34m\u001b[0m\u001b[0;34m\u001b[0m\u001b[0m\n\u001b[0m\u001b[1;32m   1133\u001b[0m         \u001b[0;32mexcept\u001b[0m \u001b[0mGroupByError\u001b[0m\u001b[0;34m:\u001b[0m\u001b[0;34m\u001b[0m\u001b[0;34m\u001b[0m\u001b[0m\n\u001b[1;32m   1134\u001b[0m             \u001b[0;32mraise\u001b[0m\u001b[0;34m\u001b[0m\u001b[0;34m\u001b[0m\u001b[0m\n",
      "\u001b[0;32m~/Development/catch_the_fraudster_challenge/lib/python3.7/site-packages/pandas/core/groupby/generic.py\u001b[0m in \u001b[0;36m_cython_agg_general\u001b[0;34m(self, how, alt, numeric_only, min_count)\u001b[0m\n\u001b[1;32m     68\u001b[0m                             min_count=-1):\n\u001b[1;32m     69\u001b[0m         new_items, new_blocks = self._cython_agg_blocks(\n\u001b[0;32m---> 70\u001b[0;31m             how, alt=alt, numeric_only=numeric_only, min_count=min_count)\n\u001b[0m\u001b[1;32m     71\u001b[0m         \u001b[0;32mreturn\u001b[0m \u001b[0mself\u001b[0m\u001b[0;34m.\u001b[0m\u001b[0m_wrap_agged_blocks\u001b[0m\u001b[0;34m(\u001b[0m\u001b[0mnew_items\u001b[0m\u001b[0;34m,\u001b[0m \u001b[0mnew_blocks\u001b[0m\u001b[0;34m)\u001b[0m\u001b[0;34m\u001b[0m\u001b[0;34m\u001b[0m\u001b[0m\n\u001b[1;32m     72\u001b[0m \u001b[0;34m\u001b[0m\u001b[0m\n",
      "\u001b[0;32m~/Development/catch_the_fraudster_challenge/lib/python3.7/site-packages/pandas/core/groupby/generic.py\u001b[0m in \u001b[0;36m_cython_agg_blocks\u001b[0;34m(self, how, alt, numeric_only, min_count)\u001b[0m\n\u001b[1;32m    141\u001b[0m \u001b[0;34m\u001b[0m\u001b[0m\n\u001b[1;32m    142\u001b[0m         \u001b[0;32mif\u001b[0m \u001b[0mlen\u001b[0m\u001b[0;34m(\u001b[0m\u001b[0mnew_blocks\u001b[0m\u001b[0;34m)\u001b[0m \u001b[0;34m==\u001b[0m \u001b[0;36m0\u001b[0m\u001b[0;34m:\u001b[0m\u001b[0;34m\u001b[0m\u001b[0;34m\u001b[0m\u001b[0m\n\u001b[0;32m--> 143\u001b[0;31m             \u001b[0;32mraise\u001b[0m \u001b[0mDataError\u001b[0m\u001b[0;34m(\u001b[0m\u001b[0;34m'No numeric types to aggregate'\u001b[0m\u001b[0;34m)\u001b[0m\u001b[0;34m\u001b[0m\u001b[0;34m\u001b[0m\u001b[0m\n\u001b[0m\u001b[1;32m    144\u001b[0m \u001b[0;34m\u001b[0m\u001b[0m\n\u001b[1;32m    145\u001b[0m         \u001b[0;31m# reset the locs in the blocks to correspond to our\u001b[0m\u001b[0;34m\u001b[0m\u001b[0;34m\u001b[0m\u001b[0;34m\u001b[0m\u001b[0m\n",
      "\u001b[0;31mDataError\u001b[0m: No numeric types to aggregate"
     ]
    }
   ],
   "source": [
    "frauds_by_hour_of_day = train_data_treated[['hour_of_day', 'isfraud']].groupby(by='hour_of_day').mean()\n",
    "frauds_by_hour_of_day.index\n",
    "plt.bar(frauds_by_hour_of_day.index, frauds_by_hour_of_day['isfraud'])\n",
    "plt.show()"
   ]
  }
 ],
 "metadata": {
  "kernelspec": {
   "display_name": "catch_the_fraudster3",
   "language": "python",
   "name": "catch_the_fraudster3"
  },
  "language_info": {
   "codemirror_mode": {
    "name": "ipython",
    "version": 3
   },
   "file_extension": ".py",
   "mimetype": "text/x-python",
   "name": "python",
   "nbconvert_exporter": "python",
   "pygments_lexer": "ipython3",
   "version": "3.7.2"
  }
 },
 "nbformat": 4,
 "nbformat_minor": 2
}
