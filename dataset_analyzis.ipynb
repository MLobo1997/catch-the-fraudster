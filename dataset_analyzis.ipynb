{
 "cells": [
  {
   "cell_type": "code",
   "execution_count": 8,
   "metadata": {},
   "outputs": [],
   "source": [
    "import numpy as np\n",
    "import pandas as pd\n",
    "import matplotlib.pyplot as plt"
   ]
  },
  {
   "cell_type": "markdown",
   "metadata": {},
   "source": [
    "# Dataset analysis\n",
    "Given that in the future training our model with the whole dataset might not be a great idea, I decided to create a separated dataset just for the analysis of the data as a whole and then, eventually creating a smaller dataset to be used for training."
   ]
  },
  {
   "cell_type": "code",
   "execution_count": 4,
   "metadata": {},
   "outputs": [],
   "source": [
    "test_data = pd.read_csv('data/test_v2.csv')\n",
    "train_data = pd.read_csv('data/train_v2.csv')"
   ]
  },
  {
   "cell_type": "code",
   "execution_count": 5,
   "metadata": {},
   "outputs": [
    {
     "name": "stdout",
     "output_type": "stream",
     "text": [
      "<class 'pandas.core.frame.DataFrame'>\n",
      "RangeIndex: 8059443 entries, 0 to 8059442\n",
      "Data columns (total 15 columns):\n",
      "id                    8059443 non-null int64\n",
      "timestamp             8059443 non-null int64\n",
      "product_id            8059443 non-null object\n",
      "product_department    8059443 non-null object\n",
      "product_category      8059443 non-null object\n",
      "card_id               8059443 non-null object\n",
      "user_id               8059443 non-null object\n",
      "C15                   8059443 non-null int64\n",
      "C16                   8059443 non-null int64\n",
      "C17                   8059443 non-null int64\n",
      "C18                   8059443 non-null int64\n",
      "C19                   8059443 non-null int64\n",
      "C20                   8059443 non-null int64\n",
      "C21                   8059443 non-null int64\n",
      "amount                8059443 non-null float64\n",
      "dtypes: float64(1), int64(9), object(5)\n",
      "memory usage: 922.3+ MB\n"
     ]
    }
   ],
   "source": [
    "test_data.info(null_counts = True)"
   ]
  },
  {
   "cell_type": "code",
   "execution_count": 6,
   "metadata": {},
   "outputs": [
    {
     "name": "stdout",
     "output_type": "stream",
     "text": [
      "<class 'pandas.core.frame.DataFrame'>\n",
      "RangeIndex: 32369524 entries, 0 to 32369523\n",
      "Data columns (total 16 columns):\n",
      "id                    32369524 non-null int64\n",
      "timestamp             32369524 non-null int64\n",
      "product_id            32369524 non-null object\n",
      "product_department    32369524 non-null object\n",
      "product_category      32369524 non-null object\n",
      "card_id               32369524 non-null object\n",
      "user_id               32369524 non-null object\n",
      "C15                   32369524 non-null int64\n",
      "C16                   32369524 non-null int64\n",
      "C17                   32369524 non-null int64\n",
      "C18                   32369524 non-null int64\n",
      "C19                   32369524 non-null int64\n",
      "C20                   32369524 non-null int64\n",
      "C21                   32369524 non-null int64\n",
      "amount                32369524 non-null float64\n",
      "isfraud               32369524 non-null int64\n",
      "dtypes: float64(1), int64(10), object(5)\n",
      "memory usage: 3.9+ GB\n",
      "None\n"
     ]
    },
    {
     "data": {
      "text/html": [
       "<div>\n",
       "<style scoped>\n",
       "    .dataframe tbody tr th:only-of-type {\n",
       "        vertical-align: middle;\n",
       "    }\n",
       "\n",
       "    .dataframe tbody tr th {\n",
       "        vertical-align: top;\n",
       "    }\n",
       "\n",
       "    .dataframe thead th {\n",
       "        text-align: right;\n",
       "    }\n",
       "</style>\n",
       "<table border=\"1\" class=\"dataframe\">\n",
       "  <thead>\n",
       "    <tr style=\"text-align: right;\">\n",
       "      <th></th>\n",
       "      <th>id</th>\n",
       "      <th>timestamp</th>\n",
       "      <th>product_id</th>\n",
       "      <th>product_department</th>\n",
       "      <th>product_category</th>\n",
       "      <th>card_id</th>\n",
       "      <th>user_id</th>\n",
       "      <th>C15</th>\n",
       "      <th>C16</th>\n",
       "      <th>C17</th>\n",
       "      <th>C18</th>\n",
       "      <th>C19</th>\n",
       "      <th>C20</th>\n",
       "      <th>C21</th>\n",
       "      <th>amount</th>\n",
       "      <th>isfraud</th>\n",
       "    </tr>\n",
       "  </thead>\n",
       "  <tbody>\n",
       "    <tr>\n",
       "      <th>0</th>\n",
       "      <td>0</td>\n",
       "      <td>1413851531856</td>\n",
       "      <td>f3845767</td>\n",
       "      <td>1fbe01fe</td>\n",
       "      <td>28905ebd</td>\n",
       "      <td>ecad2386</td>\n",
       "      <td>a99f214a</td>\n",
       "      <td>320</td>\n",
       "      <td>50</td>\n",
       "      <td>1722</td>\n",
       "      <td>0</td>\n",
       "      <td>35</td>\n",
       "      <td>-1</td>\n",
       "      <td>79</td>\n",
       "      <td>184.09</td>\n",
       "      <td>0</td>\n",
       "    </tr>\n",
       "    <tr>\n",
       "      <th>1</th>\n",
       "      <td>1</td>\n",
       "      <td>1413851817483</td>\n",
       "      <td>f3845767</td>\n",
       "      <td>1fbe01fe</td>\n",
       "      <td>28905ebd</td>\n",
       "      <td>ecad2386</td>\n",
       "      <td>a99f214a</td>\n",
       "      <td>320</td>\n",
       "      <td>50</td>\n",
       "      <td>1722</td>\n",
       "      <td>0</td>\n",
       "      <td>35</td>\n",
       "      <td>100084</td>\n",
       "      <td>79</td>\n",
       "      <td>184.09</td>\n",
       "      <td>0</td>\n",
       "    </tr>\n",
       "    <tr>\n",
       "      <th>2</th>\n",
       "      <td>2</td>\n",
       "      <td>1413852597526</td>\n",
       "      <td>f3845767</td>\n",
       "      <td>1fbe01fe</td>\n",
       "      <td>28905ebd</td>\n",
       "      <td>ecad2386</td>\n",
       "      <td>a99f214a</td>\n",
       "      <td>320</td>\n",
       "      <td>50</td>\n",
       "      <td>1722</td>\n",
       "      <td>0</td>\n",
       "      <td>35</td>\n",
       "      <td>100084</td>\n",
       "      <td>79</td>\n",
       "      <td>184.09</td>\n",
       "      <td>0</td>\n",
       "    </tr>\n",
       "    <tr>\n",
       "      <th>3</th>\n",
       "      <td>3</td>\n",
       "      <td>1413851283020</td>\n",
       "      <td>f3845767</td>\n",
       "      <td>1fbe01fe</td>\n",
       "      <td>28905ebd</td>\n",
       "      <td>ecad2386</td>\n",
       "      <td>a99f214a</td>\n",
       "      <td>320</td>\n",
       "      <td>50</td>\n",
       "      <td>1722</td>\n",
       "      <td>0</td>\n",
       "      <td>35</td>\n",
       "      <td>100084</td>\n",
       "      <td>79</td>\n",
       "      <td>184.09</td>\n",
       "      <td>0</td>\n",
       "    </tr>\n",
       "    <tr>\n",
       "      <th>4</th>\n",
       "      <td>4</td>\n",
       "      <td>1413849935779</td>\n",
       "      <td>9166c161</td>\n",
       "      <td>fe8cc448</td>\n",
       "      <td>0569f928</td>\n",
       "      <td>ecad2386</td>\n",
       "      <td>a99f214a</td>\n",
       "      <td>320</td>\n",
       "      <td>50</td>\n",
       "      <td>2161</td>\n",
       "      <td>0</td>\n",
       "      <td>35</td>\n",
       "      <td>-1</td>\n",
       "      <td>157</td>\n",
       "      <td>196.98</td>\n",
       "      <td>0</td>\n",
       "    </tr>\n",
       "  </tbody>\n",
       "</table>\n",
       "</div>"
      ],
      "text/plain": [
       "   id      timestamp product_id product_department product_category   card_id  \\\n",
       "0   0  1413851531856   f3845767           1fbe01fe         28905ebd  ecad2386   \n",
       "1   1  1413851817483   f3845767           1fbe01fe         28905ebd  ecad2386   \n",
       "2   2  1413852597526   f3845767           1fbe01fe         28905ebd  ecad2386   \n",
       "3   3  1413851283020   f3845767           1fbe01fe         28905ebd  ecad2386   \n",
       "4   4  1413849935779   9166c161           fe8cc448         0569f928  ecad2386   \n",
       "\n",
       "    user_id  C15  C16   C17  C18  C19     C20  C21  amount  isfraud  \n",
       "0  a99f214a  320   50  1722    0   35      -1   79  184.09        0  \n",
       "1  a99f214a  320   50  1722    0   35  100084   79  184.09        0  \n",
       "2  a99f214a  320   50  1722    0   35  100084   79  184.09        0  \n",
       "3  a99f214a  320   50  1722    0   35  100084   79  184.09        0  \n",
       "4  a99f214a  320   50  2161    0   35      -1  157  196.98        0  "
      ]
     },
     "execution_count": 6,
     "metadata": {},
     "output_type": "execute_result"
    }
   ],
   "source": [
    "print(train_data.info(null_counts = True))\n",
    "train_data.head()"
   ]
  },
  {
   "cell_type": "markdown",
   "metadata": {},
   "source": [
    "There are null values in neither of the dataset, however, the are clearly values which are ***imputed to -1*** as stated in Kaggle. These were probably nulls."
   ]
  },
  {
   "cell_type": "code",
   "execution_count": 32,
   "metadata": {},
   "outputs": [
    {
     "name": "stdout",
     "output_type": "stream",
     "text": [
      "Train: \n",
      "0    26819827\n",
      "1     5549697\n",
      "Name: isfraud, dtype: int64\n",
      "0    0.828552\n",
      "1    0.171448\n",
      "Name: isfraud, dtype: float64\n"
     ]
    }
   ],
   "source": [
    "print(\"Train: \")\n",
    "fraud_counts = train_data['isfraud'].value_counts()\n",
    "print(fraud_counts)\n",
    "print(fraud_counts / train_data.shape[0])"
   ]
  },
  {
   "cell_type": "markdown",
   "metadata": {},
   "source": [
    "17% of the entries in the data are fraudulent."
   ]
  },
  {
   "cell_type": "markdown",
   "metadata": {},
   "source": [
    "## Timestamp\n",
    "Let's convert the timestamp to a datetime instance so that we can analyze it better"
   ]
  },
  {
   "cell_type": "code",
   "execution_count": 33,
   "metadata": {},
   "outputs": [],
   "source": [
    "from datetime import datetime\n",
    "\n",
    "def fromTimestampToDatetime(array): return [datetime.utcfromtimestamp(int(ts) / 1000) for ts in array]\n",
    "\n",
    "test_data['datetime'] = fromTimestampToDatetime(test_data['timestamp'])\n",
    "train_data['datetime'] = fromTimestampToDatetime(train_data['timestamp'])"
   ]
  },
  {
   "cell_type": "code",
   "execution_count": 36,
   "metadata": {},
   "outputs": [
    {
     "name": "stdout",
     "output_type": "stream",
     "text": [
      "Train:\n",
      "min:  2014-10-21 00:00:00.004000 \n",
      "max:  2014-10-28 23:55:45.717000\n",
      "Test:\n",
      "min:  2014-10-28 23:55:45.846000 \n",
      "max:  2014-10-30 23:59:59.999000\n"
     ]
    }
   ],
   "source": [
    "train_datetime = train_data['datetime']\n",
    "print(\"Train:\\nmin: \", train_datetime.min(), \"\\nmax: \", train_datetime.max())\n",
    "test_datetime = test_data['datetime']\n",
    "print(\"Test:\\nmin: \", test_datetime.min(), \"\\nmax: \", test_datetime.max())"
   ]
  },
  {
   "cell_type": "markdown",
   "metadata": {},
   "source": [
    "The difference between the test and train data is the timestamp. Train data collection was completely interrupted and test data started being collected a little after."
   ]
  },
  {
   "cell_type": "markdown",
   "metadata": {},
   "source": [
    "## Histograms\n",
    "Let's create histograms of the attributes that would make sense."
   ]
  },
  {
   "cell_type": "code",
   "execution_count": 42,
   "metadata": {},
   "outputs": [],
   "source": [
    "train_hist = train_data[['C15', 'C16', 'C17', 'C18', 'C19', 'C20', 'C21', 'amount']]"
   ]
  },
  {
   "cell_type": "code",
   "execution_count": 46,
   "metadata": {},
   "outputs": [
    {
     "data": {
      "text/plain": [
       "[]"
      ]
     },
     "execution_count": 46,
     "metadata": {},
     "output_type": "execute_result"
    },
    {
     "data": {
      "image/png": "[encoded data removed]",
      "text/plain": [
       "<Figure size 1440x1440 with 9 Axes>"
      ]
     },
     "metadata": {
      "needs_background": "light"
     },
     "output_type": "display_data"
    }
   ],
   "source": [
    "train_hist.hist(bins = 50, figsize=(20,20))\n",
    "plt.plot()"
   ]
  },
  {
   "cell_type": "code",
   "execution_count": 52,
   "metadata": {},
   "outputs": [
    {
     "data": {
      "text/plain": [
       "-1         15059166\n",
       " 100084     2033777\n",
       " 100111     1448778\n",
       " 100148     1374808\n",
       " 100077     1306586\n",
       " 100075     1268444\n",
       " 100081     1094680\n",
       " 100083      898843\n",
       " 100156      851291\n",
       " 100193      624097\n",
       " 100074      474919\n",
       " 100079      459705\n",
       " 100189      415783\n",
       " 100176      374786\n",
       " 100076      350827\n",
       " 100192      207193\n",
       " 100191      200965\n",
       " 100190      191930\n",
       " 100031      183560\n",
       " 100188      170141\n",
       " 100181      131385\n",
       " 100155      125255\n",
       " 100013      116304\n",
       " 100194      115471\n",
       " 100003      106246\n",
       " 100000      103649\n",
       " 100182      101721\n",
       " 100105       95718\n",
       " 100119       95310\n",
       " 100233       84921\n",
       "             ...   \n",
       " 100244        1132\n",
       " 100043        1072\n",
       " 100163        1022\n",
       " 100010         852\n",
       " 100024         737\n",
       " 100109         610\n",
       " 100108         573\n",
       " 100122         492\n",
       " 100213         471\n",
       " 100082         461\n",
       " 100178         366\n",
       " 100137         358\n",
       " 100153         357\n",
       " 100175         145\n",
       " 100169         117\n",
       " 100098         103\n",
       " 100138          79\n",
       " 100100          73\n",
       " 100078          39\n",
       " 100186          39\n",
       " 100157          25\n",
       " 100246          24\n",
       " 100027          22\n",
       " 100132           7\n",
       " 100134           5\n",
       " 100006           4\n",
       " 100008           2\n",
       " 100209           2\n",
       " 100187           2\n",
       " 100198           1\n",
       "Name: C20, Length: 172, dtype: int64"
      ]
     },
     "execution_count": 52,
     "metadata": {},
     "output_type": "execute_result"
    }
   ],
   "source": [
    "train_data['C20'].value_counts()"
   ]
  },
  {
   "cell_type": "code",
   "execution_count": 53,
   "metadata": {},
   "outputs": [
    {
     "data": {
      "text/plain": [
       "-1         3878752\n",
       " 100148     420082\n",
       " 100084     404701\n",
       " 100075     277970\n",
       " 100176     274693\n",
       " 100077     268909\n",
       " 100111     267955\n",
       " 100081     242353\n",
       " 100156     181267\n",
       " 100083     174724\n",
       " 100079     118501\n",
       " 100074     112536\n",
       " 100076     107068\n",
       " 100170     101438\n",
       " 100193      83424\n",
       " 100013      81806\n",
       " 100189      60950\n",
       " 100188      50358\n",
       " 100177      43073\n",
       " 100171      38335\n",
       " 100155      36463\n",
       " 100000      36331\n",
       " 100190      33735\n",
       " 100233      33647\n",
       " 100194      31453\n",
       " 100199      30504\n",
       " 100192      27592\n",
       " 100200      27309\n",
       " 100221      22660\n",
       " 100191      22386\n",
       "            ...   \n",
       " 100054        301\n",
       " 100213        297\n",
       " 100043        290\n",
       " 100012        248\n",
       " 100122        199\n",
       " 100099        178\n",
       " 100229        173\n",
       " 100082        169\n",
       " 100215        168\n",
       " 100010        151\n",
       " 100137        149\n",
       " 100244        135\n",
       " 100109        119\n",
       " 100153        115\n",
       " 100024         88\n",
       " 100163         83\n",
       " 100056         65\n",
       " 100175         51\n",
       " 100138         23\n",
       " 100098         17\n",
       " 100108         16\n",
       " 100100          6\n",
       " 100186          5\n",
       " 100078          4\n",
       " 100246          4\n",
       " 100157          4\n",
       " 100006          1\n",
       " 100187          1\n",
       " 100134          1\n",
       " 100027          1\n",
       "Name: C20, Length: 168, dtype: int64"
      ]
     },
     "execution_count": 53,
     "metadata": {},
     "output_type": "execute_result"
    }
   ],
   "source": [
    "test_data['C20'].value_counts()"
   ]
  },
  {
   "cell_type": "markdown",
   "metadata": {},
   "source": [
    "`C20` has clearly a lot of imputed values as -1."
   ]
  }
 ],
 "metadata": {
  "kernelspec": {
   "display_name": "catch_the_fraudster3",
   "language": "python",
   "name": "catch_the_fraudster3"
  },
  "language_info": {
   "codemirror_mode": {
    "name": "ipython",
    "version": 3
   },
   "file_extension": ".py",
   "mimetype": "text/x-python",
   "name": "python",
   "nbconvert_exporter": "python",
   "pygments_lexer": "ipython3",
   "version": "3.7.2"
  }
 },
 "nbformat": 4,
 "nbformat_minor": 2
}
